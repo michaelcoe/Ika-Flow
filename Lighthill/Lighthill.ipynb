{
 "cells": [
  {
   "cell_type": "code",
   "execution_count": null,
   "metadata": {},
   "outputs": [],
   "source": [
    "import numpy as np\n",
    "\n",
    "import matplotlib.pyplot as plt"
   ]
  },
  {
   "cell_type": "code",
   "execution_count": null,
   "metadata": {},
   "outputs": [],
   "source": [
    "thrust = np.zeros(10)\n",
    "freq = np.zeros(10)\n",
    "\n",
    "# constants\n",
    "L = 0.095\n",
    "A = 30\n",
    "rho = 1000\n",
    "b = 0.048\n",
    "beta = 1\n",
    "\n",
    "for i in np.arange(0,len(thrust),1):\n",
    "    f = 0.2 + i*0.05\n",
    "    omega = 2 * np.pi * f\n",
    "    T = 1/f\n",
    "\n",
    "    dt = 0.001\n",
    "    t = np.arange(0, 2*T, dt)\n",
    "    theta = A * np.pi/180 * np.sin(omega * t)\n",
    "    h = L * np.sin(theta)\n",
    "    dhdt = np.divide(np.diff(h), dt)\n",
    "    m = np.pi * rho * b**2 / 4 * beta\n",
    "    thrust[i] = m * np.mean(np.power(dhdt,2)) * 1000\n",
    "    freq[i] = f"
   ]
  },
  {
   "cell_type": "code",
   "execution_count": null,
   "metadata": {},
   "outputs": [],
   "source": [
    "plt.rcParams.update({'font.size':18})\n",
    "fig1, ax1 = plt.subplots(figsize=(12, 10))\n",
    "ax1.plot(freq, thrust)\n",
    "ax1.set_xlabel('f [Hz]')\n",
    "ax1.set_ylabel('Thrust [mN]')"
   ]
  },
  {
   "cell_type": "code",
   "execution_count": null,
   "metadata": {},
   "outputs": [],
   "source": []
  }
 ],
 "metadata": {
  "interpreter": {
   "hash": "0fabf3c4c3bf7fd16ef4731162584a792ae3e87a77ae917e9c599ddb25c1dac0"
  },
  "kernelspec": {
   "display_name": "Python 3.10.0 64-bit",
   "language": "python",
   "name": "python3"
  },
  "language_info": {
   "codemirror_mode": {
    "name": "ipython",
    "version": 3
   },
   "file_extension": ".py",
   "mimetype": "text/x-python",
   "name": "python",
   "nbconvert_exporter": "python",
   "pygments_lexer": "ipython3",
   "version": "3.10.0"
  },
  "orig_nbformat": 4
 },
 "nbformat": 4,
 "nbformat_minor": 2
}
