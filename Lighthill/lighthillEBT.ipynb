{
 "cells": [
  {
   "cell_type": "code",
   "execution_count": null,
   "metadata": {},
   "outputs": [],
   "source": [
    "import numpy as np\n",
    "import sympy as sp\n",
    "import matplotlib.pyplot as plt\n",
    "import matplotlib.animation as animation\n",
    "\n",
    "from pathlib import Path\n",
    "\n",
    "%matplotlib inline"
   ]
  },
  {
   "cell_type": "markdown",
   "metadata": {},
   "source": [
    "The purpose of this notebook is to model fish motion and give an analytical solution based upon Lighthill's Elonged Body Theorem"
   ]
  },
  {
   "cell_type": "code",
   "execution_count": null,
   "metadata": {},
   "outputs": [],
   "source": [
    "x = sp.Symbol('x')\n",
    "t = sp.Symbol('t')\n",
    "k = 2*sp.pi\n",
    "w = 2*sp.pi\n",
    "expr = (0.02 - 0.08*x + 0.16*x**2)*sp.sin(k*x - w*t)\n",
    "hx = sp.diff(expr, x)\n",
    "hx2 = hx**2\n",
    "ht = sp.diff(expr, t)\n",
    "ht2 = ht**2"
   ]
  },
  {
   "cell_type": "code",
   "execution_count": null,
   "metadata": {},
   "outputs": [],
   "source": [
    "array_size = 100\n",
    "times = np.linspace(0, 1, array_size)\n",
    "tail_length = 0.05\n",
    "A_l = np.pi*tail_length**2/4\n",
    "fish_length = 1.0\n",
    "lengths = np.ones(array_size)*fish_length\n",
    "density = 1025\n",
    "velocity = 1.0\n",
    "\n",
    "thrust_expr = (density*A_l/2)*(ht2 - velocity*hx2)\n",
    "f_thrust = sp.lambdify([x, t],thrust_expr, \"numpy\")\n",
    "\n",
    "power_expr = density*A_l*velocity*(ht*(ht + velocity*hx))\n",
    "f_power = sp.lambdify([x, t], power_expr, \"numpy\")"
   ]
  },
  {
   "cell_type": "code",
   "execution_count": null,
   "metadata": {},
   "outputs": [],
   "source": [
    "thrust = f_thrust(lengths, times)\n",
    "power = f_power(lengths, times)"
   ]
  },
  {
   "cell_type": "code",
   "execution_count": null,
   "metadata": {},
   "outputs": [],
   "source": [
    "plt.rcParams.update({'font.size':20})\n",
    "\n",
    "fig1, ax1 = plt.subplots(figsize=(12,10))\n",
    "p1, = ax1.plot(times, thrust, 'b', label='Lighthill Thrust')\n",
    "\n",
    "twin1 = ax1.twinx()\n",
    "p2, = twin1.plot(times, power, 'r', label='Lighthill Power')\n",
    "\n",
    "ax1.set_xlabel('Times [s]')\n",
    "ax1.set_ylabel('Thrust [N]')\n",
    "\n",
    "twin1.set_ylabel('Power [W]')\n",
    "\n",
    "ax1.yaxis.label.set_color(p1.get_color())\n",
    "twin1.yaxis.label.set_color(p2.get_color())"
   ]
  },
  {
   "cell_type": "code",
   "execution_count": null,
   "metadata": {},
   "outputs": [],
   "source": []
  }
 ],
 "metadata": {
  "interpreter": {
   "hash": "2db524e06e9f5f4ffedc911c917cb75e12dbc923643829bf417064a77eb14d37"
  },
  "kernelspec": {
   "display_name": "Python 3.8.2 64-bit",
   "name": "python3"
  },
  "language_info": {
   "codemirror_mode": {
    "name": "ipython",
    "version": 3
   },
   "file_extension": ".py",
   "mimetype": "text/x-python",
   "name": "python",
   "nbconvert_exporter": "python",
   "pygments_lexer": "ipython3",
   "version": "3.8.2"
  }
 },
 "nbformat": 4,
 "nbformat_minor": 4
}
