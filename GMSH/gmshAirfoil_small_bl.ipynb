{
 "cells": [
  {
   "cell_type": "markdown",
   "metadata": {},
   "source": [
    "This script calculates an airfoil and outputs it to a format to be read by gmsh works for gmsh 4.7.1"
   ]
  },
  {
   "cell_type": "code",
   "execution_count": 1,
   "metadata": {},
   "outputs": [],
   "source": [
    "#import common modules\n",
    "import os\n",
    "import sys\n",
    "import numpy as np\n",
    "import matplotlib.pyplot as plt\n",
    "\n",
    "# import fish utility modules\n",
    "import airfoil as ar\n",
    "\n",
    "from scipy import optimize"
   ]
  },
  {
   "cell_type": "markdown",
   "metadata": {},
   "source": [
    "First we specify the thickness and chord length and then call the naca4 function in `airfoil.py`.  The format for that function is naca4(x_coordinates, thickness, camber, location of max thickness, closed trailing edge, chord length)  "
   ]
  },
  {
   "cell_type": "code",
   "execution_count": 2,
   "metadata": {},
   "outputs": [
    {
     "data": {
      "image/png": "[encoded data removed]",
      "text/plain": [
       "<Figure size 720x1440 with 1 Axes>"
      ]
     },
     "metadata": {
      "needs_background": "light"
     },
     "output_type": "display_data"
    }
   ],
   "source": [
    "# half-cosine spacing\n",
    "coord_points = 50   # number of points for upper and lower surface\n",
    "beta = np.linspace(0, np.pi, coord_points)\n",
    "dx = (0.5*(1-np.cos(beta)))\n",
    "# uniform spacing\n",
    "#dx = np.linspace(0.0, chord, 200)\n",
    "\n",
    "chord = 1.0   # chord\n",
    "t = 0.12   # thickness\n",
    "m = 0.0    # camber\n",
    "p = 0.3    # location of maximum camber\n",
    "TE = True  # trailing edge closed\n",
    "\n",
    "# call the functoin\n",
    "x, y = ar.naca4(dx, t, m, p, TE, chord)\n",
    "\n",
    "#convert coordinates to upper and lower arrays\n",
    "xu = x[0]\n",
    "xl = x[1]\n",
    "yu = y[0]\n",
    "yl = y[1]\n",
    "\n",
    "# plot the results\n",
    "f1, ax1 = plt.subplots(figsize=(10,20))\n",
    "ax1.plot(xu, yu)\n",
    "ax1.plot(xl, yl)\n",
    "ax1.set_title('Airfoil')\n",
    "ax1.set_aspect('equal')"
   ]
  },
  {
   "cell_type": "markdown",
   "metadata": {},
   "source": [
    "Write to a .geo file"
   ]
  },
  {
   "cell_type": "code",
   "execution_count": 3,
   "metadata": {},
   "outputs": [],
   "source": [
    "# Create array for writing\n",
    "bLength = 2\n",
    "\n",
    "point = np.zeros((2*coord_points-2,3))\n",
    "point2 = np.zeros((2*coord_points-2,3))\n",
    "ind = 0\n",
    "\n",
    "point[0:coord_points, 0] = xu\n",
    "point[0:coord_points, 1] = yu\n",
    "point[0:coord_points, 2] = 0.0\n",
    "\n",
    "point2[0:coord_points, 0] = (xu * bLength - (xu[-1]*0.33))\n",
    "point2[0:coord_points, 1] = yu * bLength\n",
    "point2[0:coord_points, 2] = 0.0\n",
    "\n",
    "point[coord_points:, 0] = np.flipud(xl[1:-1])\n",
    "point[coord_points:, 1] = np.flipud(yl[1:-1])\n",
    "point[coord_points:, 2] = 0.0\n",
    "\n",
    "point2[coord_points:, 0] = (np.flipud(xl[1:-1]) * bLength - (xl[-1]*0.33))\n",
    "point2[coord_points:, 1] = np.flipud(yl[1:-1]) * bLength\n",
    "point2[coord_points:, 2] = 0.0\n",
    "\n",
    "num_points = point.shape[0]\n",
    "bl_points = point2.shape[0]\n",
    "\n",
    "airfoil_point_index = np.arange(1, point.shape[0]+1)\n",
    "airfoil_bl_point_index = np.arange(airfoil_point_index[-1]+1, airfoil_point_index[-1]+1+point2.shape[0])"
   ]
  },
  {
   "cell_type": "markdown",
   "metadata": {},
   "source": [
    "We can make things easier by defining a characteristic length for the mesh and a fluid domain based on the geometry\n",
    "\n",
    "In this case:\n",
    "\n",
    "all variables are a factor of total length e.g. 40 is 40 * length of airfoil\n",
    "\n",
    "Lx_plus = length behind the airfoil\n",
    "\n",
    "Lx_minus = length in front of airfoil\n",
    "\n",
    "Ly = length top and bottom of airfoil"
   ]
  },
  {
   "cell_type": "markdown",
   "metadata": {},
   "source": [
    "No we should calculate the y+ value and all our boundary layer values\n",
    "\n",
    "Credit to https://www.fluidmechanics101.com/pdf/calculators.pdf\n",
    "\n",
    "For the calculation processes"
   ]
  },
  {
   "cell_type": "code",
   "execution_count": 4,
   "metadata": {},
   "outputs": [],
   "source": [
    "# Define our setup variables\n",
    "U = 1.0                                 # Freestream Velocity\n",
    "L = 1.0                                 # Length            \n",
    "density = 1025                          # fluid density\n",
    "kinVisc = 2.5e-11                       # kinematic viscosity of fluid\n",
    "dynamicVisc = density * kinVisc         # dynamic viscosity of fluid\n",
    "yPlus = 5.0                             # desired Y+\n",
    "growth_ratio = 1.1                      # growth ratio\n",
    "N = 20                                  # number of inflation layers\n",
    "\n",
    "# calculate the Reynolds Number\n",
    "Re = U * L / kinVisc\n",
    "\n",
    "# calculate the skin friction coefficient\n",
    "Cf = (2*np.log10(Re) - 0.65)**(-2.3)\n",
    "\n",
    "# calculate the shear wall stress\n",
    "tw = 0.5 * density * U**2 * Cf\n",
    "\n",
    "# calculate the friction velocity\n",
    "ut = np.sqrt(tw / density)\n",
    "\n",
    "# calculate yp where yp is the distance to the centroid of the first cell\n",
    "# based on desired y+. yH is the first cell height which is 2 times the centroid\n",
    "yp =  (yPlus * dynamicVisc) / (ut * density)\n",
    "\n",
    "yH = 2 * yp\n",
    "\n",
    "# Estimate the boundary layer thickness using the Blasius solution\n",
    "# laminar and turbulent are given here\n",
    "if ( Re < 4e5):\n",
    "    delta = 4.91 * L / np.sqrt(Re)\n",
    "else:\n",
    "    delta = 0.38 * L / Re**(1/5)\n",
    "\n",
    "# calculate the total thickness of the inflation layers yT\n",
    "# specify the growth ratio\n",
    "yT = yH * ((1 - growth_ratio**N)/(1 - growth_ratio))\n",
    "\n",
    "#f = lambda r: (1.14e-8 * ((1 - r**20)/(1 - r)) - 0.00288)\n",
    "\n",
    "#growth_ratio_calc = optimize.fsolve(f, 1.1)\n",
    "# Give the final layer thickness\n",
    "yFinal = yH * growth_ratio**(N - 1)"
   ]
  },
  {
   "cell_type": "markdown",
   "metadata": {},
   "source": [
    "We can make things easier by defining a characteristic length for the mesh and a fluid domain based on the geometry\n",
    "\n",
    "In this case:\n",
    "\n",
    "all variables are a factor of total length e.g. 40 is 40 * length of airfoil\n",
    "\n",
    "Lx_plus = length behind the airfoil\n",
    "\n",
    "Lx_minus = length in front of airfoil\n",
    "\n",
    "Ly = length top and bottom of airfoil"
   ]
  },
  {
   "cell_type": "code",
   "execution_count": 5,
   "metadata": {},
   "outputs": [],
   "source": [
    "airfoil_cl = 0.005\n",
    "bl_cl = 0.005\n",
    "\n",
    "hfar = 0.01\n",
    "hwall_n = 0.0005\n",
    "thickness = 0.02"
   ]
  },
  {
   "cell_type": "code",
   "execution_count": 6,
   "metadata": {},
   "outputs": [],
   "source": [
    "#Write data to the .geo file\n",
    "with open('airfoil_small_bl.geo', 'w') as df:\n",
    "    # first we write the variables for easy changing locally later\n",
    "    df.write('airfoil_cl = %f;\\n' % (airfoil_cl))\n",
    "    df.write('bl_cl = %f;\\n' % (bl_cl))\n",
    "    df.write('\\n')\n",
    "\n",
    "    for i, index in zip(np.arange(0, point.shape[0], 1), airfoil_point_index):\n",
    "        df.write('Point(%i) = {%f, %f, %f, airfoil_cl};\\n' % (index, point[i,0], point[i,1],\n",
    "                                                    point[i,2]))\n",
    "    point_index = i\n",
    "    df.write('\\n')\n",
    "\n",
    "    for i, index in zip(np.arange(0, point2.shape[0], 1), airfoil_bl_point_index):\n",
    "        df.write('Point(%i) = {%f, %f, %f, bl_cl};\\n' % (index, point2[i,0], point2[i,1],\n",
    "                                                    point2[i,2]))\n",
    "        point_index += 1\n",
    "    df.write('\\n')\n",
    "    \n",
    "    line_loops = np.array([101, 102])\n",
    "    plane_surface = np.array([201])\n",
    "    # write the boundary domain points\n",
    "    df.write('// combine foil points into a bspline \\n')\n",
    "    df.write('BSpline(5) = {'  + str(airfoil_point_index[0]) + ':' + str(airfoil_point_index[int(airfoil_point_index.shape[0]/2)]) + '}; \\n')\n",
    "    df.write('BSpline(6) = {' + str(airfoil_point_index[int(airfoil_point_index.shape[0]/2)]) + ':' + str(airfoil_point_index[-1]) + ',' +  str(airfoil_point_index[0]) + '}; \\n')\n",
    "    df.write('Line Loop(' + str(line_loops[0]) + ') = {5, 6}; \\n') \n",
    "    df.write('\\n')\n",
    "       \n",
    "    df.write('\\n')\n",
    "    df.write('// combine foil points into a bspline \\n')\n",
    "    df.write('BSpline(7) = {'  + str(airfoil_bl_point_index[0]) + ':' + str(airfoil_bl_point_index[int(airfoil_bl_point_index.shape[0]/2)]) + '}; \\n')\n",
    "    df.write('BSpline(8) = {' + str(airfoil_bl_point_index[int(airfoil_bl_point_index.shape[0]/2)]) + ':' + str(airfoil_bl_point_index[-1]) + ',' +  str(airfoil_bl_point_index[0]) + '}; \\n')\n",
    "    df.write('Line Loop(' + str(line_loops[1]) + ') = {7, 8}; \\n') \n",
    "    df.write('\\n')\n",
    "   \n",
    "    # df.write('Plane Surface(' + str(plane_surface[0]) + ') = {101, 102}; \\n')\n",
    "    \n",
    "    # df.write('\\n')\n",
    "    # # extrude the surface so we can name the boundaries\n",
    "    # df.write('Extrude {0, 0, 1} {\\n Surface{' + str(plane_surface[0]) + '};\\n Layers{1};\\n Recombine;\\n}')\n",
    "    # df.write('\\n')\n",
    "    # define the boundary layer addition\n",
    "    # df.write('//Define the boundary layer \\n')\n",
    "    # df.write('Field[1] = BoundaryLayer; \\n')\n",
    "    # df.write('Field[1].EdgesList = {5, 6}; \\n')\n",
    "    # df.write('Field[1].NodesList = {1, 1021, 1022, ' + str(airfoil_point_numbers[-1]) + '}; \\n')\n",
    "    # df.write('Field[1].hfar = ' + str(hfar) + '; \\n')\n",
    "    # df.write('Field[1].hwall_n = ' + str(hwall_n) + '; \\n')\n",
    "    # df.write('Field[1].thickness = ' + str(thickness) + '; \\n')\n",
    "    # df.write('Field[1].ratio = ' + str(growth_ratio) + '; \\n')\n",
    "    # df.write('Field[1].AnisoMax = 10; \\n')\n",
    "    # df.write('Field[1].Quads = 1; \\n')\n",
    "    # df.write('Field[1].IntersectMetrics = 0; \\n')\n",
    "    # df.write('BoundaryLayer Field = 1; \\n')"
   ]
  },
  {
   "cell_type": "code",
   "execution_count": 7,
   "metadata": {},
   "outputs": [
    {
     "data": {
      "text/plain": [
       "array([ 1,  2,  3,  4,  5,  6,  7,  8,  9, 10, 11, 12, 13, 14, 15, 16, 17,\n",
       "       18, 19, 20, 21, 22, 23, 24, 25, 26, 27, 28, 29, 30, 31, 32, 33, 34,\n",
       "       35, 36, 37, 38, 39, 40, 41, 42, 43, 44, 45, 46, 47, 48, 49, 50, 51,\n",
       "       52, 53, 54, 55, 56, 57, 58, 59, 60, 61, 62, 63, 64, 65, 66, 67, 68,\n",
       "       69, 70, 71, 72, 73, 74, 75, 76, 77, 78, 79, 80, 81, 82, 83, 84, 85,\n",
       "       86, 87, 88, 89, 90, 91, 92, 93, 94, 95, 96, 97, 98])"
      ]
     },
     "execution_count": 7,
     "metadata": {},
     "output_type": "execute_result"
    }
   ],
   "source": [
    "airfoil_point_index"
   ]
  },
  {
   "cell_type": "code",
   "execution_count": 8,
   "metadata": {},
   "outputs": [
    {
     "data": {
      "text/plain": [
       "array([ 99, 100, 101, 102, 103, 104, 105, 106, 107, 108, 109, 110, 111,\n",
       "       112, 113, 114, 115, 116, 117, 118, 119, 120, 121, 122, 123, 124,\n",
       "       125, 126, 127, 128, 129, 130, 131, 132, 133, 134, 135, 136, 137,\n",
       "       138, 139, 140, 141, 142, 143, 144, 145, 146, 147, 148, 149, 150,\n",
       "       151, 152, 153, 154, 155, 156, 157, 158, 159, 160, 161, 162, 163,\n",
       "       164, 165, 166, 167, 168, 169, 170, 171, 172, 173, 174, 175, 176,\n",
       "       177, 178, 179, 180, 181, 182, 183, 184, 185, 186, 187, 188, 189,\n",
       "       190, 191, 192, 193, 194, 195, 196])"
      ]
     },
     "execution_count": 8,
     "metadata": {},
     "output_type": "execute_result"
    }
   ],
   "source": [
    "airfoil_bl_point_index"
   ]
  },
  {
   "cell_type": "code",
   "execution_count": null,
   "metadata": {},
   "outputs": [],
   "source": []
  }
 ],
 "metadata": {
  "interpreter": {
   "hash": "a78839fcd0a87f1bc59d97616e11f6dea7c5b71d26349f3e8a0d0e4afe02aaa0"
  },
  "kernelspec": {
   "display_name": "Python 3.9.5 64-bit",
   "name": "python3"
  },
  "language_info": {
   "codemirror_mode": {
    "name": "ipython",
    "version": 3
   },
   "file_extension": ".py",
   "mimetype": "text/x-python",
   "name": "python",
   "nbconvert_exporter": "python",
   "pygments_lexer": "ipython3",
   "version": "3.9.5"
  }
 },
 "nbformat": 4,
 "nbformat_minor": 4
}
