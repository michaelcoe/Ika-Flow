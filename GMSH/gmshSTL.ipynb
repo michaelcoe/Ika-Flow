{
 "cells": [
  {
   "cell_type": "markdown",
   "metadata": {},
   "source": [
    "This script calculates an airfoil and outputs it to a format to be read by gmsh works for gmsh 4.7.1"
   ]
  },
  {
   "cell_type": "code",
   "execution_count": 1,
   "metadata": {},
   "outputs": [],
   "source": [
    "#import common modules\n",
    "import numpy as np\n",
    "import matplotlib.pyplot as plt\n",
    "import cv2\n",
    "\n",
    "from pathlib import Path"
   ]
  },
  {
   "cell_type": "code",
   "execution_count": 2,
   "metadata": {},
   "outputs": [],
   "source": [
    "img_location = Path('./modifiedFoil.png')\n",
    "\n",
    "img2 = cv2.imread(img_location.as_posix(), cv2.IMREAD_COLOR)\n",
    "img = cv2.imread(img_location.as_posix(), cv2.IMREAD_GRAYSCALE)\n",
    "# Converting image to a binary image\n",
    "# ( black and white only image).\n",
    "_, threshold = cv2.threshold(img, 110, 255, cv2.THRESH_BINARY)\n",
    "  \n",
    "# Detecting contours in image.\n",
    "cnts, _= cv2.findContours(threshold, cv2.RETR_TREE,\n",
    "                               cv2.CHAIN_APPROX_SIMPLE)"
   ]
  },
  {
   "cell_type": "code",
   "execution_count": 3,
   "metadata": {},
   "outputs": [
    {
     "data": {
      "text/plain": [
       "(-0.05, 1.05, -0.066, 0.066)"
      ]
     },
     "execution_count": 3,
     "metadata": {},
     "output_type": "execute_result"
    },
    {
     "data": {
      "image/png": "[encoded data removed]",
      "text/plain": [
       "<Figure size 432x288 with 1 Axes>"
      ]
     },
     "metadata": {
      "needs_background": "light"
     },
     "output_type": "display_data"
    }
   ],
   "source": [
    "# create a blank image\n",
    "mask = np.zeros(img.shape, dtype=np.uint8)\n",
    "# find the pixel points\n",
    "cv2.drawContours(mask, cnts, 1, 255, 1)\n",
    "# Get the contour points\n",
    "pixelPoints = np.transpose(np.nonzero(mask))\n",
    "hullX = pixelPoints[:,1]\n",
    "hullY = pixelPoints[:,0]\n",
    "\n",
    "# perform some shifting to get the original object\n",
    "hullX = hullX - np.min(hullX)\n",
    "hullY = hullY - (np.max(hullY) + np.min(hullY))/2\n",
    "\n",
    "length_ = 1.0\n",
    "height_ = 0.06\n",
    "\n",
    "hullX = hullX * (length_ / np.max(hullX))\n",
    "hullY = hullY * (height_ / np.max(hullY))\n",
    "\n",
    "sort_ind = np.argsort(hullX, axis=0)\n",
    "hullX = hullX[sort_ind]\n",
    "hullY = hullY[sort_ind]\n",
    "\n",
    "fig3, ax3 = plt.subplots()\n",
    "ax3.plot(hullX, hullY, 'o')\n",
    "ax3.axis('equal')"
   ]
  },
  {
   "cell_type": "code",
   "execution_count": 4,
   "metadata": {},
   "outputs": [],
   "source": [
    "# now we sample and condition the data so we can put it in gmsh\n",
    "coord_points = 50\n",
    "\n",
    "yu_indices = np.where(hullY >= 0)[0]\n",
    "\n",
    "yu_fit = np.polyfit(hullX[yu_indices], hullY[yu_indices], 8)\n",
    "yu_poly = np.poly1d(yu_fit)\n",
    "\n",
    "beta = np.linspace(0, np.pi, coord_points)\n",
    "xu = (0.5*(1-np.cos(beta)))\n",
    "xl = xu\n",
    "yu = yu_poly(xu)\n",
    "yl = -yu_poly(xu)\n"
   ]
  },
  {
   "cell_type": "markdown",
   "metadata": {},
   "source": [
    "We can make things easier by defining a characteristic length for the mesh and a fluid domain based on the geometry\n",
    "\n",
    "In this case:\n",
    "\n",
    "all variables are a factor of total length e.g. 40 is 40 * length of airfoil\n",
    "\n",
    "Lx_plus = length behind the airfoil\n",
    "\n",
    "Lx_minus = length in front of airfoil\n",
    "\n",
    "Ly = length top and bottom of airfoil\n",
    "\n",
    "No we should calculate the y+ value and all our boundary layer values\n",
    "\n",
    "Credit to https://www.fluidmechanics101.com/pdf/calculators.pdf\n",
    "\n",
    "For the calculation processes\n"
   ]
  },
  {
   "cell_type": "code",
   "execution_count": 5,
   "metadata": {},
   "outputs": [
    {
     "name": "stdout",
     "output_type": "stream",
     "text": [
      "3.2699388761451724e-06 1.1 5.187134440411597e-05\n"
     ]
    }
   ],
   "source": [
    "# Define our setup variables\n",
    "U = 1.0                                 # Freestream Velocity                                 # Length            \n",
    "density = 1025                          # fluid density\n",
    "kinVisc = 1e-8                       # kinematic viscosity of fluid\n",
    "dynamicVisc = density * kinVisc         # dynamic viscosity of fluid\n",
    "yPlus = 5.0                             # desired Y+\n",
    "growth_ratio = 1.1                      # growth ratio\n",
    "N = 30                                  # number of inflation layers\n",
    "\n",
    "# calculate the Reynolds Number\n",
    "Re = U * length_ / kinVisc\n",
    "\n",
    "# calculate the skin friction coefficient\n",
    "Cf = (2*np.log10(Re) - 0.65)**(-2.3)\n",
    "\n",
    "# calculate the shear wall stress\n",
    "tw = 0.5 * density * U**2 * Cf\n",
    "\n",
    "# calculate the friction velocity\n",
    "ut = np.sqrt(tw / density)\n",
    "\n",
    "# calculate yp where yp is the distance to the centroid of the first cell\n",
    "# based on desired y+. yH is the first cell height which is 2 times the centroid\n",
    "yp =  (yPlus * dynamicVisc) / (ut * density)\n",
    "\n",
    "yH = 2 * yp\n",
    "\n",
    "# Estimate the boundary layer thickness using the Blasius solution\n",
    "# laminar and turbulent are given here\n",
    "if ( Re < 4e5):\n",
    "    delta = 4.91 * length_ / np.sqrt(Re)\n",
    "else:\n",
    "    delta = 0.38 * length_ / Re**(1/5)\n",
    "\n",
    "# calculate the total thickness of the inflation layers yT\n",
    "# specify the growth ratio\n",
    "yT = yH * ((1 - growth_ratio**N)/(1 - growth_ratio))\n",
    "\n",
    "#f = lambda r: (1.14e-8 * ((1 - r**20)/(1 - r)) - 0.00288)\n",
    "\n",
    "#growth_ratio_calc = optimize.fsolve(f, 1.1)\n",
    "# Give the final layer thickness\n",
    "yFinal = yH * growth_ratio**(N - 1)\n",
    "\n",
    "print(yH, growth_ratio, yFinal)"
   ]
  },
  {
   "cell_type": "markdown",
   "metadata": {},
   "source": [
    "We can make things easier by defining a characteristic length for the mesh and a fluid domain based on the geometry\n",
    "\n",
    "In this case:\n",
    "\n",
    "all variables are a factor of total length e.g. 40 is 40 * length of airfoil\n",
    "\n",
    "Lx_plus = length behind the airfoil\n",
    "\n",
    "Lx_minus = length in front of airfoil\n",
    "\n",
    "Ly = length top and bottom of airfoil\n"
   ]
  },
  {
   "cell_type": "code",
   "execution_count": 6,
   "metadata": {},
   "outputs": [],
   "source": [
    "airfoil_cl = 0.0025\n",
    "wall_cl = 0.1\n",
    "Lx_plus = 1.5\n",
    "Lx_minus = -0.5\n",
    "Ly_plus = 0.5\n",
    "Ly_minus = -0.5 \n",
    "\n",
    "hfar = 0.0001\n",
    "hwall_n = 0.00005\n",
    "thickness = 0.01  # thickness of boundary layer"
   ]
  },
  {
   "cell_type": "code",
   "execution_count": 7,
   "metadata": {},
   "outputs": [],
   "source": [
    "# Create array for writing\n",
    "point = np.zeros((2*coord_points-2,3));\n",
    "ind = 0;\n",
    "back_plane_z = -0.5\n",
    "\n",
    "point[0:coord_points, 0] = xu\n",
    "point[0:coord_points, 1] = yu\n",
    "point[0:coord_points, 2] = back_plane_z\n",
    "\n",
    "point[coord_points:, 0] = np.flipud(xl[1:-1])\n",
    "point[coord_points:, 1] = np.flipud(yl[1:-1])\n",
    "point[coord_points:, 2] = back_plane_z\n",
    "\n",
    "num_points = point.shape[0];\n",
    "airfoil_point_numbers = np.arange(1, num_points, 1)\n",
    "num_lines = num_points;\n",
    "\n",
    "# perform some conditioning on the 0 coordinate and max length coordinate \n",
    "# so that the b-spline connects better\n",
    "point[np.where(point[:,0] == length_), 1] = 0.0\n",
    "point[np.where(point[:,0] == 0.0), 1] = 0.0"
   ]
  },
  {
   "cell_type": "code",
   "execution_count": 8,
   "metadata": {},
   "outputs": [],
   "source": [
    "#Write data to the .geo file\n",
    "with open('modifiedAirfoil.geo', 'w') as df:\n",
    "    # first we write the variables for easy changing locally later\n",
    "    df.write('airfoil_cl = %f;\\n' % (airfoil_cl))\n",
    "    df.write('wall_cl = %f;\\n' % (wall_cl))\n",
    "    df.write('Lx_plus = %f;\\n' % (Lx_plus * length_))\n",
    "    df.write('Lx_minus = %f;\\n' % (Lx_minus * length_))\n",
    "    df.write('Ly_plus = %f;\\n' % (Ly_plus * length_))\n",
    "    df.write('Ly_minus = %f;\\n' % (Ly_minus * length_))\n",
    "    df.write('\\n')\n",
    "\n",
    "    for i in np.arange(0, num_points, 1):\n",
    "        df.write('Point(%i) = {%f, %f, %f, airfoil_cl};\\n' % (i+1, point[i,0], point[i,1],\n",
    "                                                    point[i,2]))\n",
    "    df.write('\\n')\n",
    "    \n",
    "    # define the domain point numbers and domain line numbers\n",
    "    domain_points = np.arange(num_points + 1, num_points + 5, 1)\n",
    "    domain_lines = np.arange(num_lines + 1, num_lines + 5, 1)\n",
    "    line_loops = np.array([101, 102])\n",
    "    plane_surface = np.array([201])\n",
    "    \n",
    "    # write the fluid domain points\n",
    "    df.write('// Define bounding box corners for fluid domain \\n')        \n",
    "    df.write('Point(%i) = {Lx_minus, Ly_minus, %f, wall_cl};\\n' % (domain_points[0], back_plane_z))\n",
    "    df.write('Point(%i) = {Lx_minus, Ly_plus, %f, wall_cl};\\n' % (domain_points[1], back_plane_z))\n",
    "    df.write('Point(%i) = {Lx_plus, Ly_plus, %f, wall_cl};\\n' % (domain_points[2], back_plane_z))\n",
    "    df.write('Point(%i) = {Lx_plus, Ly_minus, %f, wall_cl};\\n' % (domain_points[3], back_plane_z))\n",
    "    df.write('\\n')\n",
    "    \n",
    "    # write the fluid domain lines\n",
    "    df.write('// Make line loops for the fluid domain\\n')\n",
    "    df.write('Line(%i) = {%i, %i};\\n' % (domain_lines[0], domain_points[0], domain_points[1]))\n",
    "    df.write('Line(%i) = {%i, %i};\\n' % (domain_lines[1], domain_points[1], domain_points[2]))\n",
    "    df.write('Line(%i) = {%i, %i};\\n' % (domain_lines[2], domain_points[2], domain_points[3]))\n",
    "    df.write('Line(%i) = {%i, %i};\\n' % (domain_lines[3], domain_points[3], domain_points[0]))\n",
    "    df.write('\\n')\n",
    "    \n",
    "    # combine the loops into a surface\n",
    "    df.write('// Combine the fluid domain lines\\n')\n",
    "    df.write('Line Loop(' + str(line_loops[0]) + ') = {' + np.array2string(domain_lines, separator = ', ').strip('[]') + '}; \\n')\n",
    "    \n",
    "    df.write('\\n')\n",
    "    df.write('// combine foil points into a bspline \\n')\n",
    "    df.write('BSpline(5) = {%i:%i}; \\n' % (airfoil_point_numbers[0], coord_points))\n",
    "    df.write('BSpline(6) = {%i:%i, %i}; \\n' % (coord_points, num_points, airfoil_point_numbers[0]))\n",
    "    df.write('Line Loop(%i) = {5, 6}; \\n' % (line_loops[1])) \n",
    "    df.write('\\n')\n",
    "\n",
    "    df.write('Plane Surface(%i) = {101, 102}; \\n' % (plane_surface[0]))\n",
    "    \n",
    "    df.write('\\n')\n",
    "    # extrude the surface so we can name the boundaries\n",
    "    df.write('Extrude {0, 0, 1} {\\n Surface{%i};\\n Layers{1};\\n Recombine;\\n}' % \n",
    "    (plane_surface[0]))\n",
    "    df.write('\\n')\n",
    "\n",
    "    # define the physical surface patches\n",
    "    df.write('// Define the physical surfaces -> values are obtained via the GUI \\n')\n",
    "    df.write('Physical Surface(\"overPatch\") = {212, 216, 220, 224}; \\n')\n",
    "    df.write('Physical Surface(\"symFront\") = {233}; \\n')\n",
    "    df.write('Physical Surface(\"symBack\") = {201}; \\n')\n",
    "    df.write('Physical Surface(\"wingT\") = {232}; \\n')\n",
    "    df.write('Physical Surface(\"wingB\") = {228}; \\n')\n",
    "    df.write('\\n')\n",
    "\n",
    "    # define the internal volume\n",
    "    df.write('// Define the internal volume - usually 1 but obtained from GUI \\n')\n",
    "    df.write('Physical Volume(\"internal\") = {1};\\n')\n",
    "    df.write('\\n')\n",
    "\n",
    "    # define the boundary layer addition\n",
    "    df.write('//Define the boundary layer \\n')\n",
    "    df.write('Field[1] = BoundaryLayer; \\n')\n",
    "    df.write('Field[1].EdgesList = {5, 6}; \\n')\n",
    "    df.write('Field[1].NodesList = {1, 1021, 1022, ' + str(airfoil_point_numbers[-1]) + '}; \\n')\n",
    "    df.write('Field[1].hfar = ' + str(hfar) + '; \\n')\n",
    "    df.write('Field[1].hwall_n = ' + str(hwall_n) + '; \\n')\n",
    "    df.write('Field[1].thickness = ' + str(thickness) + '; \\n')\n",
    "    df.write('Field[1].ratio = ' + str(growth_ratio) + '; \\n')\n",
    "    df.write('Field[1].AnisoMax = 10; \\n')\n",
    "    df.write('Field[1].Quads = 1; \\n')\n",
    "    df.write('Field[1].IntersectMetrics = 0; \\n')\n",
    "    df.write('BoundaryLayer Field = 1; \\n')"
   ]
  },
  {
   "cell_type": "code",
   "execution_count": null,
   "metadata": {},
   "outputs": [],
   "source": []
  }
 ],
 "metadata": {
  "interpreter": {
   "hash": "31f2aee4e71d21fbe5cf8b01ff0e069b9275f58929596ceb00d14d90e3e16cd6"
  },
  "kernelspec": {
   "display_name": "Python 3.8.10 64-bit",
   "name": "python3"
  },
  "language_info": {
   "codemirror_mode": {
    "name": "ipython",
    "version": 3
   },
   "file_extension": ".py",
   "mimetype": "text/x-python",
   "name": "python",
   "nbconvert_exporter": "python",
   "pygments_lexer": "ipython3",
   "version": "3.10.0"
  }
 },
 "nbformat": 4,
 "nbformat_minor": 4
}
