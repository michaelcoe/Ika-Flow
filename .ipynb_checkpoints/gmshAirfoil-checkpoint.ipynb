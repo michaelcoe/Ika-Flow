{
 "cells": [
  {
   "cell_type": "markdown",
   "metadata": {},
   "source": [
    "This script calculates an airfoil and outputs it to a format to be read by gmsh works for gmsh 4.7.1"
   ]
  },
  {
   "cell_type": "code",
   "execution_count": 1,
   "metadata": {},
   "outputs": [],
   "source": [
    "#import common modules\n",
    "import os\n",
    "import sys\n",
    "import numpy as np\n",
    "import matplotlib.pyplot as plt\n",
    "\n",
    "# import fish utility modules\n",
    "import airfoil as ar"
   ]
  },
  {
   "cell_type": "markdown",
   "metadata": {},
   "source": [
    "First we specify the thickness and chord length and then call the naca4 function in `airfoil.py`.  The format for that function is naca4(x_coordinates, thickness, camber, location of max thickness, closed trailing edge, chord length)  "
   ]
  },
  {
   "cell_type": "code",
   "execution_count": 2,
   "metadata": {},
   "outputs": [
    {
     "data": {
      "image/png": "[encoded data removed]",
      "text/plain": [
       "<Figure size 720x1440 with 1 Axes>"
      ]
     },
     "metadata": {
      "needs_background": "light"
     },
     "output_type": "display_data"
    }
   ],
   "source": [
    "# half-cosine spacing\n",
    "coord_points = 20   # number of points for upper and lower surface\n",
    "beta = np.linspace(0, np.pi, coord_points)\n",
    "dx = (0.5*(1-np.cos(beta)))\n",
    "# uniform spacing\n",
    "#dx = np.linspace(0.0, chord, 200)\n",
    "\n",
    "chord = 1.0   # chord\n",
    "t = 0.12   # thickness\n",
    "m = 0.0    # camber\n",
    "p = 0.3    # location of maximum camber\n",
    "TE = True  # trailing edge closed\n",
    "\n",
    "# call the functoin\n",
    "x, y = ar.naca4(dx, t, m, p, TE, chord)\n",
    "\n",
    "#convert coordinates to upper and lower arrays\n",
    "xu = x[0]\n",
    "xl = x[1]\n",
    "yu = y[0]\n",
    "yl = y[1]\n",
    "\n",
    "# plot the results\n",
    "f1, ax1 = plt.subplots(figsize=(10,20))\n",
    "ax1.plot(xu, yu)\n",
    "ax1.plot(xl, yl)\n",
    "ax1.set_title('Airfoil')\n",
    "ax1.set_aspect('equal')"
   ]
  },
  {
   "cell_type": "markdown",
   "metadata": {},
   "source": [
    "Write to a .geo file"
   ]
  },
  {
   "cell_type": "code",
   "execution_count": 7,
   "metadata": {},
   "outputs": [],
   "source": [
    "# Create array for writing\n",
    "point = np.zeros((2*coord_points-2,3));\n",
    "ind = 0;\n",
    "\n",
    "point[0:coord_points, 0] = xu\n",
    "point[0:coord_points, 1] = yu\n",
    "point[0:coord_points, 2] = 0.0\n",
    "\n",
    "point[coord_points:, 0] = np.flipud(xl[1:-1])\n",
    "point[coord_points:, 1] = np.flipud(yl[1:-1])\n",
    "point[coord_points:, 2] = 0.0\n",
    "\n",
    "num_points = point.shape[0];\n",
    "num_lines = num_points;"
   ]
  },
  {
   "cell_type": "markdown",
   "metadata": {},
   "source": [
    "We can make things easier by defining a characteristic length for the mesh and a fluid domain based on the geometry\n",
    "\n",
    "In this case:\n",
    "\n",
    "all variables are a factor of total length e.g. 40 is 40 * length of airfoil\n",
    "\n",
    "Lx_plus = length behind the airfoil\n",
    "\n",
    "Lx_minus = length in front of airfoil\n",
    "\n",
    "Ly = length top and bottom of airfoil"
   ]
  },
  {
   "cell_type": "code",
   "execution_count": 18,
   "metadata": {},
   "outputs": [],
   "source": [
    "char_length = 0.05\n",
    "Lx_plus = 2\n",
    "Lx_minus = 1\n",
    "Ly = 1"
   ]
  },
  {
   "cell_type": "code",
   "execution_count": 20,
   "metadata": {},
   "outputs": [],
   "source": [
    "#Write data to the .geo file\n",
    "with open('data_file.geo', 'w') as df:\n",
    "    # first we write the variables for easy changing locally later\n",
    "    df.write('naca_lc = %f;\\n' % (char_length))\n",
    "    df.write('Lx_plus = %f;\\n' % (Lx_plus * chord))\n",
    "    df.write('Lx_minus = %f;\\n' % (Lx_minus * chord))\n",
    "    df.write('Ly = %f;\\n' % (Ly * chord))\n",
    "    \n",
    "    for i in np.arange(0, num_points, 1):\n",
    "        df.write('Point(%i) = {%f, %f, %f, naca_lc};\\n' % (i+1, point[i,0], point[i,1],\n",
    "                                                    point[i,2]))\n",
    "    \n",
    "    df.write('BSpline(1) = {1:' + str(coord_points) + '};\\n')\n",
    "    df.write('BSpline(2) = {' + str(coord_points) + ':' + str(num_points) + ', 1};\\n')\n",
    "    '''\n",
    "    for i in np.arange(1, num_lines+1, 1):\n",
    "        if (i < num_lines):\n",
    "            df.write('Line(%i) = {%i, %i};\\n' % (i, i, i+1))\n",
    "        else:\n",
    "            df.write('Line(%i) = {%i, %i};\\n' % (i, i, 1))\n",
    "    '''       \n",
    "    domain_points = np.arange(num_points + 1, num_points + 5, 1)\n",
    "    domain_lines = np.arange(num_lines + 1, num_lines + 5, 1)\n",
    "    \n",
    "    airfoil_loop = np.array2string(np.arange(1, num_lines+1, 1), separator = ', ').strip('[]')\n",
    "    domain_loop = np.array2string(domain_lines, separator = ', ').strip('[]')\n",
    "    \n",
    "    # write the fluid domain points        \n",
    "    df.write('Point(%i) = {-Lx_minus, -Ly, 0.0000, naca_lc};\\n' % (domain_points[0]))\n",
    "    df.write('Point(%i) = {-Lx_minus, Ly, 0.0000, naca_lc};\\n' % (domain_points[1]))\n",
    "    df.write('Point(%i) = {Lx_plus, Ly, 0.0000, naca_lc};\\n' % (domain_points[2]))\n",
    "    df.write('Point(%i) = {Lx_plus, -Ly, 0.0000, naca_lc};\\n' % (domain_points[3]))\n",
    "    \n",
    "    # write the fluid domain lines\n",
    "    df.write('Line(%i) = {%i, %i};\\n' % (domain_lines[0], domain_points[0], domain_points[1]))\n",
    "    df.write('Line(%i) = {%i, %i};\\n' % (domain_lines[1], domain_points[1], domain_points[2]))\n",
    "    df.write('Line(%i) = {%i, %i};\\n' % (domain_lines[2], domain_points[2], domain_points[3]))\n",
    "    df.write('Line(%i) = {%i, %i};\\n' % (domain_lines[3], domain_points[3], domain_points[0]))\n",
    "    \n",
    "    # combine the loops into a surface\n",
    "    df.write('Curve Loop(1) = {' + domain_loop + '};\\n')\n",
    "    df.write('Curve Loop(2) = {1, 2};\\n')\n",
    "    \n",
    "    df.write('Surface(1) = {1, 2};\\n')\n",
    "    \n",
    "    # extrude the surface so we can name the boundaries\n",
    "    df.write('Extrude {0, 0, 1} {\\n Surface{1};\\n Layers{1};\\n Recombine;\\n};')"
   ]
  },
  {
   "cell_type": "code",
   "execution_count": null,
   "metadata": {},
   "outputs": [],
   "source": []
  }
 ],
 "metadata": {
  "kernelspec": {
   "display_name": "Python 3",
   "language": "python",
   "name": "python3"
  },
  "language_info": {
   "codemirror_mode": {
    "name": "ipython",
    "version": 3
   },
   "file_extension": ".py",
   "mimetype": "text/x-python",
   "name": "python",
   "nbconvert_exporter": "python",
   "pygments_lexer": "ipython3",
   "version": "3.8.5"
  }
 },
 "nbformat": 4,
 "nbformat_minor": 4
}
