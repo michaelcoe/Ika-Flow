{
 "cells": [
  {
   "cell_type": "code",
   "execution_count": 1,
   "metadata": {},
   "outputs": [],
   "source": [
    "import os\n",
    "import math\n",
    "import copy\n",
    "import numpy as np\n",
    "import matplotlib.pyplot as plt\n",
    "import matplotlib.animation as animation\n",
    "import class_definitions as cd\n",
    "import function_definitions as fd\n",
    "import fish_kinematics as fk\n",
    "import airfoil as ar\n",
    "\n",
    "from scipy import linalg\n",
    "\n",
    "%matplotlib inline"
   ]
  },
  {
   "cell_type": "markdown",
   "metadata": {},
   "source": [
    "First we use the airfoil functions to make a NACA0012 airfoil\n",
    "\n",
    "A fish body can be modeled using the function **naca4(x, t, c, m=0.0, p=0.30, a4=True)** where, \n",
    "    **x** is a 1D numpy array of x-coordinates, \n",
    "    **c** is the chord length,\n",
    "    **t** is the maximum thickness,\n",
    "    **m** is the maximum camber (defaul is symmetric),\n",
    "    **p** is the location of maximum camber (should be a non-zero number), and \n",
    "    **a4** determines if it has an open or closed edge."
   ]
  },
  {
   "cell_type": "code",
   "execution_count": 2,
   "metadata": {},
   "outputs": [],
   "source": [
    "chord = 1.0\n",
    "# half-cosine spacing\n",
    "beta = np.linspace(0, np.pi, 100)\n",
    "dx = (0.5*(1-np.cos(beta)))\n",
    "# uniform spacing\n",
    "# dx = np.linspace(0.0, chord, 100)\n",
    "x, y = ar.naca4(dx, 0.12, chord, 0.0, 0.30, True)"
   ]
  },
  {
   "cell_type": "code",
   "execution_count": 3,
   "metadata": {},
   "outputs": [
    {
     "data": {
      "text/plain": [
       "(-0.1, 0.1)"
      ]
     },
     "execution_count": 3,
     "metadata": {},
     "output_type": "execute_result"
    },
    {
     "data": {
      "image/png": "[encoded data removed]",
      "text/plain": [
       "<Figure size 720x720 with 1 Axes>"
      ]
     },
     "metadata": {
      "needs_background": "light"
     },
     "output_type": "display_data"
    }
   ],
   "source": [
    "# plot geometry\n",
    "width = 10\n",
    "plt.figure(figsize=(width, width))\n",
    "plt.grid()\n",
    "plt.xlabel('x', fontsize=16)\n",
    "plt.ylabel('y', fontsize=16)\n",
    "plt.plot(x, y, color='k', linestyle='-', linewidth=2)\n",
    "plt.axis('scaled')\n",
    "plt.xlim(-0.1, 1.1)\n",
    "plt.ylim(-0.1, 0.1)"
   ]
  },
  {
   "cell_type": "code",
   "execution_count": 4,
   "metadata": {},
   "outputs": [],
   "source": [
    "# discretize geoemetry into panels\n",
    "panels = fd.define_panels(x, y, N=40)"
   ]
  },
  {
   "cell_type": "code",
   "execution_count": 5,
   "metadata": {},
   "outputs": [
    {
     "data": {
      "image/png": "[encoded data removed]",
      "text/plain": [
       "<Figure size 720x720 with 1 Axes>"
      ]
     },
     "metadata": {
      "needs_background": "light"
     },
     "output_type": "display_data"
    }
   ],
   "source": [
    "# plot discretized geometry\n",
    "width = 10\n",
    "plt.figure(figsize=(width, width))\n",
    "plt.grid()\n",
    "plt.xlabel('x', fontsize=16)\n",
    "plt.ylabel('y', fontsize=16)\n",
    "plt.plot(x, y, color='k', linestyle='-', linewidth=2)\n",
    "plt.plot(np.append([panel.xa for panel in panels], panels[0].xa),\n",
    "            np.append([panel.ya for panel in panels], panels[0].ya),\n",
    "            linestyle='-', linewidth=1, marker='o', markersize=6, color='#CD2305')\n",
    "plt.axis('scaled')\n",
    "plt.xlim(-0.1, 1.1)\n",
    "plt.ylim(-0.1, 0.1);"
   ]
  },
  {
   "cell_type": "code",
   "execution_count": null,
   "metadata": {},
   "outputs": [],
   "source": [
    "# define freestream conditions\n",
    "freestream = cd.Freestream(u_inf=1.0, alpha=4.0)"
   ]
  },
  {
   "cell_type": "code",
   "execution_count": null,
   "metadata": {},
   "outputs": [],
   "source": [
    "A_source = fd.source_contribution_normal(panels)\n",
    "B_vortex = fd.vortex_contribution_normal(panels)"
   ]
  },
  {
   "cell_type": "code",
   "execution_count": null,
   "metadata": {},
   "outputs": [],
   "source": [
    "A = fd.build_singularity_matrix(A_source, B_vortex)\n",
    "b = fd.build_freestream_rhs(panels, freestream)"
   ]
  },
  {
   "cell_type": "code",
   "execution_count": null,
   "metadata": {},
   "outputs": [],
   "source": [
    "# solve for singularity strengths\n",
    "strengths = np.linalg.solve(A, b)\n",
    "\n",
    "# store source strength on each panel\n",
    "for i , panel in enumerate(panels):\n",
    "    panel.sigma = strengths[i]\n",
    "    \n",
    "# store circulation density\n",
    "gamma = strengths[-1]"
   ]
  },
  {
   "cell_type": "code",
   "execution_count": null,
   "metadata": {},
   "outputs": [],
   "source": [
    "# tangential velocity at each panel center.\n",
    "fd.compute_tangential_velocity(panels, freestream, gamma, A_source, B_vortex)"
   ]
  },
  {
   "cell_type": "code",
   "execution_count": null,
   "metadata": {},
   "outputs": [],
   "source": [
    "# surface pressure coefficient\n",
    "fd.compute_pressure_coefficient(panels, freestream)"
   ]
  },
  {
   "cell_type": "code",
   "execution_count": null,
   "metadata": {},
   "outputs": [],
   "source": [
    "# plot surface pressure coefficient\n",
    "pyplot.figure(figsize=(10, 6))\n",
    "pyplot.grid()\n",
    "pyplot.xlabel('$x$', fontsize=16)\n",
    "pyplot.ylabel('$C_p$', fontsize=16)\n",
    "pyplot.plot([panel.xc for panel in panels if panel.loc == 'upper'],\n",
    "            [panel.cp for panel in panels if panel.loc == 'upper'],\n",
    "            label='upper surface',\n",
    "            color='r', linestyle='-', linewidth=2, marker='o', markersize=6)\n",
    "pyplot.plot([panel.xc for panel in panels if panel.loc == 'lower'],\n",
    "            [panel.cp for panel in panels if panel.loc == 'lower'],\n",
    "            label= 'lower surface',\n",
    "            color='b', linestyle='-', linewidth=1, marker='o', markersize=6)\n",
    "pyplot.legend(loc='best', prop={'size':16})\n",
    "pyplot.xlim(-0.1, 1.1)\n",
    "pyplot.ylim(1.0, -2.0)\n",
    "pyplot.title('Number of panels: {}'.format(panels.size), fontsize=16);"
   ]
  },
  {
   "cell_type": "markdown",
   "metadata": {},
   "source": [
    "Here we define some kinematic parameters that follow the midline of a fish backbone. We use the **Carangiform(w, k, A_n, A_t, x_pivot, total_length)** function in the `fish_kinematics.py` script. The Carangiform class expects a angular frequency **w**, body wave number **k**, the amplitude of the nose and tail **A_n, A_t** and assumes the amplitude at the pivot point is 0. It also requires the position of the pivot point along the body **x_pivot** and the total length of the fish."
   ]
  },
  {
   "cell_type": "code",
   "execution_count": 6,
   "metadata": {},
   "outputs": [],
   "source": [
    "total_length = 1.0\n",
    "velocity = 0.3478\n",
    "WL = 2.5*total_length         # body wavelength [m]\n",
    "k = 2*np.pi/WL                # wave number [radians/meter]\n",
    "freq = 2.47                   # flapping frequency [Hz]\n",
    "strouhal = 1.136               \n",
    "A_t = velocity*strouhal/freq    # tail beat amplitude [m]\n",
    "A_n = 0.01275/total_length\n",
    "w = 2*np.pi*freq                # angular frequency [radians/sec]                                                         \n",
    "x_pivot = 0.7                   # pivot in percent of body length\n",
    "\n",
    "midline = fk.Carangiform(w, k, A_n, A_t, x_pivot, total_length)\n",
    "dt = 0.05 # time discretization\n",
    "time = np.arange(0, 1/freq, dt)\n",
    "U_inf = 1.0\n",
    "N = 10 # number of wake panels\n",
    "# set the first trailing edge panel\n",
    "x_te = np.array([dx[-1], dx[-1] + U_inf*dt])\n",
    "y_te = midline.single_rigid_motion(x_te, 0.0)\n",
    "wake_panels = np.empty(1, dtype=object)\n",
    "wake_panels[0] = cd.Wake_panel(x_te[0], y_te[0], x_te[1], y_te[1])"
   ]
  },
  {
   "cell_type": "markdown",
   "metadata": {},
   "source": [
    "We discretize the time for 1 flap of the tail. Now we update the curvature of the airfoil and the panels and visualize the results."
   ]
  },
  {
   "cell_type": "code",
   "execution_count": 15,
   "metadata": {},
   "outputs": [
    {
     "data": {
      "text/plain": [
       "[<matplotlib.lines.Line2D at 0x1d1d44fffa0>]"
      ]
     },
     "execution_count": 15,
     "metadata": {},
     "output_type": "execute_result"
    },
    {
     "data": {
      "image/png": "[encoded data removed]",
      "text/plain": [
       "<Figure size 432x288 with 1 Axes>"
      ]
     },
     "metadata": {
      "needs_background": "light"
     },
     "output_type": "display_data"
    }
   ],
   "source": []
  },
  {
   "cell_type": "code",
   "execution_count": null,
   "metadata": {},
   "outputs": [],
   "source": []
  }
 ],
 "metadata": {
  "kernelspec": {
   "display_name": "Python 3",
   "language": "python",
   "name": "python3"
  },
  "language_info": {
   "codemirror_mode": {
    "name": "ipython",
    "version": 3
   },
   "file_extension": ".py",
   "mimetype": "text/x-python",
   "name": "python",
   "nbconvert_exporter": "python",
   "pygments_lexer": "ipython3",
   "version": "3.8.5"
  }
 },
 "nbformat": 4,
 "nbformat_minor": 4
}
