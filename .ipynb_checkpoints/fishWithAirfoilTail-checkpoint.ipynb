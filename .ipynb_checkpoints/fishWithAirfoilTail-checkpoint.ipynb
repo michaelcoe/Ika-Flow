{
 "cells": [
  {
   "cell_type": "code",
   "execution_count": 1,
   "metadata": {},
   "outputs": [],
   "source": [
    "import os\n",
    "import numpy as np\n",
    "import matplotlib.pyplot as plt\n",
    "import class_definitions as cd\n",
    "import function_definitions as fd\n",
    "import airfoil as ar"
   ]
  },
  {
   "cell_type": "markdown",
   "metadata": {},
   "source": [
    "First we use the airfoil script to make two airfoils. The first airfoil is the body and the second is the tail. \n",
    "\n",
    "The body is a modified naca4 airfoil using the function **naca4_modified(x, t, c, m, d0)** where,\n",
    "    **x** is a 1D numpy array of x-coordinates,\n",
    "    **t** is the maximum thickness,\n",
    "    **c** is the chord length,  \n",
    "    **m** is a float of the location of maximum thickness, and \n",
    "    **d0** is the thickness of the trailing edge.\n",
    "\n",
    "The tail is a symmetric naca4 airfoil using the function **naca4(x, t, c, m=0.0, p=0.30, a4=True)** where, \n",
    "    **x** is a 1D numpy array of x-coordinates, \n",
    "    **c** is the chord length,\n",
    "    **t** is the maximum thickness,\n",
    "    **m** is the maximum camber (defaul is symmetric),\n",
    "    **p** is the location of maximum camber (should be a non-zero number), and \n",
    "    **a4** determines if it has an open or closed edge."
   ]
  },
  {
   "cell_type": "code",
   "execution_count": 9,
   "metadata": {},
   "outputs": [
    {
     "data": {
      "image/png": "[encoded data removed]",
      "text/plain": [
       "<Figure size 720x1440 with 2 Axes>"
      ]
     },
     "metadata": {
      "needs_background": "light"
     },
     "output_type": "display_data"
    }
   ],
   "source": [
    "c = 1.0\n",
    "dx = np.linspace(0.0, c, 100)\n",
    "X_body, Y_body = ar.naca4_modified(dx, 0.2, c, 0.3, 0.01)\n",
    "X_tail, Y_tail = ar.naca4(dx, 0.2, c, 0.0, 0.3, True)\n",
    "\n",
    "# plot the two airfoils\n",
    "f1, (ax1, ax2) = plt.subplots(1, 2, figsize=(10,20), sharey=True)\n",
    "ax1.plot(X_body, Y_body)\n",
    "ax1.set_aspect('equal')\n",
    "ax2.plot(X_tail, Y_tail)\n",
    "ax2.set_aspect('equal')"
   ]
  },
  {
   "cell_type": "markdown",
   "metadata": {},
   "source": [
    "Scale the tail down to what the aspect ratio is and place it at the standard length of the fish / robot"
   ]
  },
  {
   "cell_type": "code",
   "execution_count": 3,
   "metadata": {},
   "outputs": [
    {
     "data": {
      "image/png": "[encoded data removed]",
      "text/plain": [
       "<Figure size 432x288 with 1 Axes>"
      ]
     },
     "metadata": {
      "needs_background": "light"
     },
     "output_type": "display_data"
    }
   ],
   "source": [
    "standard_length = 0.280\n",
    "total_length = 0.290\n",
    "length_diff = total_length - standard_length\n",
    "\n",
    "X_body = X_body * standard_length\n",
    "Y_body = Y_body * standard_length\n",
    "X_tail = X_tail * 0.1\n",
    "Y_tail = Y_tail * 0.1\n",
    "\n",
    "# new coordinates for the tail\n",
    "X_tail = X_tail + standard_length - length_diff\n",
    "\n",
    "f2, ax2 = plt.subplots()\n",
    "ax2.plot(X_body, Y_body)\n",
    "ax2.plot(X_tail, Y_tail)\n",
    "ax2.set_aspect('equal')"
   ]
  },
  {
   "cell_type": "code",
   "execution_count": null,
   "metadata": {},
   "outputs": [],
   "source": []
  }
 ],
 "metadata": {
  "kernelspec": {
   "display_name": "Python 3",
   "language": "python",
   "name": "python3"
  },
  "language_info": {
   "codemirror_mode": {
    "name": "ipython",
    "version": 3
   },
   "file_extension": ".py",
   "mimetype": "text/x-python",
   "name": "python",
   "nbconvert_exporter": "python",
   "pygments_lexer": "ipython3",
   "version": "3.8.5"
  }
 },
 "nbformat": 4,
 "nbformat_minor": 4
}
