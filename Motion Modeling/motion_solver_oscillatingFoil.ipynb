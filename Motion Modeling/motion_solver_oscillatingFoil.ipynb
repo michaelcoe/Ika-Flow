{
 "cells": [
  {
   "cell_type": "code",
   "execution_count": null,
   "metadata": {},
   "outputs": [],
   "source": [
    "import os\n",
    "import math\n",
    "import copy\n",
    "import numpy as np\n",
    "import matplotlib.pyplot as plt\n",
    "import matplotlib.animation as animation\n",
    "import airfoil as ar\n",
    "\n",
    "%matplotlib inline"
   ]
  },
  {
   "cell_type": "markdown",
   "metadata": {},
   "source": [
    "The purpose of this notebook is to model the motion of a flapping fish in python but in a way that can be directly translated to an Ansys Fluent UDF function"
   ]
  },
  {
   "cell_type": "markdown",
   "metadata": {},
   "source": [
    "First we use the airfoil functions to make a NACA0012 airfoil\n",
    "\n",
    "A fish body can be modeled using the function **naca4(x, t, c, m=0.0, p=0.30, a4=True)** where, \n",
    "    **x** is a 1D numpy array of x-coordinates, \n",
    "    **c** is the chord length,\n",
    "    **t** is the maximum thickness,\n",
    "    **m** is the maximum camber (defaul is symmetric),\n",
    "    **p** is the location of maximum camber (should be a non-zero number), and \n",
    "    **a4** determines if it has an open or closed edge."
   ]
  },
  {
   "cell_type": "code",
   "execution_count": null,
   "metadata": {},
   "outputs": [],
   "source": [
    "chord = 1.0\n",
    "# half-cosine spacing\n",
    "beta = np.linspace(0, np.pi, 100)\n",
    "#dx = (0.5*(1-np.cos(beta)))\n",
    "# uniform spacing\n",
    "dx = np.linspace(0.0, chord, 100)\n",
    "X, Y = ar.naca4(dx, 0.12, 0.0, 0.30, True, chord)\n",
    "x, y = ar.convert_to_coordinates(X, Y)"
   ]
  },
  {
   "cell_type": "code",
   "execution_count": null,
   "metadata": {},
   "outputs": [],
   "source": [
    "plt.rcParams.update({'font.size':20})\n",
    "\n",
    "# plot geometry\n",
    "width = 10\n",
    "plt.figure(figsize=(width, width))\n",
    "plt.grid()\n",
    "plt.xlabel('x', fontsize=16)\n",
    "plt.ylabel('y', fontsize=16)\n",
    "plt.plot(x, y, color='k', linestyle='-', linewidth=2)\n",
    "plt.axis('scaled')\n",
    "plt.xlim(-0.1, 1.1)\n",
    "plt.ylim(-0.1, 0.1)"
   ]
  },
  {
   "cell_type": "markdown",
   "metadata": {},
   "source": [
    "Output airfoil to a file for geometry import"
   ]
  },
  {
   "cell_type": "markdown",
   "metadata": {},
   "source": [
    "Motion as determined by Anderson.\n",
    "\n",
    "- Oscillation about the one-third chord\n",
    "- alpha(t) = -arctan(pi St cos(wt)) + theta(t)"
   ]
  },
  {
   "cell_type": "code",
   "execution_count": null,
   "metadata": {},
   "outputs": [],
   "source": [
    "def airfoil_motion(U, St, h0, alpha_0, phi=90, number_cycles=1.5):\n",
    "    # define frequency from strouhal number\n",
    "    freq = St*U/(2*h0)\n",
    "    time = np.linspace(0, number_cycles * (1/freq), 1500)\n",
    "    omega = 2*np.pi*freq\n",
    "    # alpha as defined in Anderson et al. 1998\n",
    "    theta_0 = np.arctan(omega*h0/U) - alpha_0\n",
    "    alpha = np.arctan(omega*h0*np.cos(omega*time)) - theta_0*np.sin(omega*time + np.deg2rad(phi))\n",
    "    h_t = h0*np.sin(omega*time)\n",
    "    theta_t = theta_0*np.sin(omega*time + phi)\n",
    "    \n",
    "    #zero_crossings = np.where(np.diff(np.sign(alpha)))[0]\n",
    "    #alpha_cycle = alpha[zero_crossings[0]+1:zero_crossings[-1]+1]\n",
    "    #time_cycle = time[zero_crossings[0]+1:zero_crossings[-1]+1]\n",
    "    #time_cycle = time_cycle - time_cycle[0]\n",
    "\n",
    "    #return time, alpha, np.rad2deg(alpha)\n",
    "    return time, h_t, theta_t, alpha"
   ]
  },
  {
   "cell_type": "code",
   "execution_count": null,
   "metadata": {},
   "outputs": [],
   "source": [
    "# define the freestream from Reynolds number\n",
    "Re = 40000\n",
    "chord = 1.0\n",
    "\n",
    "U = 1.0\n",
    "\n",
    "Re = 40000\n",
    "visc = U * chord / Re\n",
    "\n",
    "phi = np.deg2rad(90)\n",
    "\n",
    "h0 = 0.75 * chord\n",
    "\n",
    "alpha_0 = np.deg2rad(15)\n",
    "\n",
    "Strouhal = [0.1, 0.2, 0.3, 0.4, 0.5, 0.6]\n",
    "\n",
    "fig1, (ax1, ax2) = plt.subplots(1, 2, figsize=(20,10))\n",
    "for St in Strouhal:\n",
    "    time, h_t, theta_t, alpha_t = airfoil_motion(U, St, h0, alpha_0, number_cycles=2.5)\n",
    "    ax1.plot(time, h_t, label='St = ' + str(St))\n",
    "    ax2.plot(time, np.rad2deg(alpha_t), label='St= ' + str(St))\n",
    "\n",
    "ax1.set_xlabel('time [s]')\n",
    "ax1.set_ylabel('h(t) [m]')\n",
    "\n",
    "ax2.set_xlabel('time [s]')\n",
    "ax2.set_ylabel(r'$ \\alpha (t)\\; [^o] $')\n",
    "ax1.legend(ncol=3, bbox_to_anchor=(1.0, 1.15))\n",
    "ax2.legend(ncol=3, bbox_to_anchor=(1.0, 1.15))"
   ]
  },
  {
   "cell_type": "code",
   "execution_count": null,
   "metadata": {},
   "outputs": [],
   "source": [
    "St = 0.2\n",
    "chord = 1.0\n",
    "U = 1.0\n",
    "h0 = 0.75 * chord\n",
    "\n",
    "alpha_0s = [5, 10, 15, 20, 25, 30]\n",
    "fig3, (ax3, ax4) = plt.subplots(1, 2, figsize=(20,10))\n",
    "\n",
    "for alpha_0 in alpha_0s:\n",
    "    time, h_t, theta_t, alpha_t = airfoil_motion(U, St, h0, np.deg2rad(alpha_0), number_cycles=2.5)\n",
    "\n",
    "    ax3.plot(time, h_t, label=r'$ \\alpha_0 $= ' + str(np.round(alpha_0,3)))\n",
    "    ax4.plot(time, np.rad2deg(alpha_t), label=r'$ \\alpha_0 $= ' + str(np.round(alpha_0,3)))\n",
    "\n",
    "ax3.set_ylabel('h(t) [m]')\n",
    "ax3.set_xlabel('time [s]')\n",
    "\n",
    "ax4.set_ylabel(r'$ \\alpha (t) \\; [^o]$')\n",
    "ax4.set_xlabel('time [s]')\n",
    "\n",
    "ax3.legend(ncol=3, bbox_to_anchor=(1.0, 1.15))\n",
    "ax4.legend(ncol=3, bbox_to_anchor=(1.0, 1.15))"
   ]
  },
  {
   "cell_type": "code",
   "execution_count": null,
   "metadata": {},
   "outputs": [],
   "source": [
    "St = 0.60\n",
    "chord = 1.0\n",
    "U = 1.0\n",
    "h0 = 0.75 * chord\n",
    "\n",
    "alpha_0 = np.deg2rad(15)\n",
    "time, h_t, theta_t, alpha_t = airfoil_motion(U, St, h0, alpha_0, number_cycles=2.6)\n",
    "number_points = time.shape[0]\n",
    "\n",
    "txt_template = '({times} (({surge} {sway} {heave}) ({roll} {pitch} {yaw}))) \\n'\n",
    "header = '\\n' + str(number_points) + '\\n' + '( \\n'\n",
    "footer = ')'\n",
    "\n",
    "with open('6DoF.dat', 'w') as f:\n",
    "    f.write(header)\n",
    "    for i, timestep in enumerate(time):\n",
    "        f.write(txt_template.format(times=np.round(timestep,4), surge=0.0, sway=h_t[i], heave=0.0,\n",
    "                                    roll=0.0, pitch=0.0, yaw=np.round(np.rad2deg(alpha_t[i]),4)))\n",
    "    f.write(footer)"
   ]
  },
  {
   "cell_type": "code",
   "execution_count": null,
   "metadata": {},
   "outputs": [],
   "source": [
    "print(time[-1])"
   ]
  },
  {
   "cell_type": "code",
   "execution_count": null,
   "metadata": {},
   "outputs": [],
   "source": []
  }
 ],
 "metadata": {
  "interpreter": {
   "hash": "916dbcbb3f70747c44a77c7bcd40155683ae19c65e1c03b4aa3499c5328201f1"
  },
  "kernelspec": {
   "display_name": "Python 3.8.10 64-bit",
   "name": "python3"
  },
  "language_info": {
   "codemirror_mode": {
    "name": "ipython",
    "version": 3
   },
   "file_extension": ".py",
   "mimetype": "text/x-python",
   "name": "python",
   "nbconvert_exporter": "python",
   "pygments_lexer": "ipython3",
   "version": "3.8.10"
  }
 },
 "nbformat": 4,
 "nbformat_minor": 4
}
