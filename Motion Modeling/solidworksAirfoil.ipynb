{
 "cells": [
  {
   "cell_type": "markdown",
   "metadata": {},
   "source": [
    "This script calculates an airfoil and outputs it to a format to be read by gmsh works for gmsh 4.7.1"
   ]
  },
  {
   "cell_type": "code",
   "execution_count": 1,
   "metadata": {},
   "outputs": [],
   "source": [
    "#import common modules\n",
    "import os\n",
    "import sys\n",
    "import numpy as np\n",
    "import matplotlib.pyplot as plt\n",
    "\n",
    "# import fish utility modules\n",
    "import airfoil as ar"
   ]
  },
  {
   "cell_type": "markdown",
   "metadata": {},
   "source": [
    "First we specify the thickness and chord length and then call the naca4 function in `airfoil.py`.  The format for that function is naca4(x_coordinates, thickness, camber, location of max thickness, closed trailing edge, chord length)  "
   ]
  },
  {
   "cell_type": "code",
   "execution_count": 2,
   "metadata": {},
   "outputs": [
    {
     "data": {
      "image/png": "[encoded data removed]",
      "text/plain": [
       "<Figure size 720x1440 with 1 Axes>"
      ]
     },
     "metadata": {
      "needs_background": "light"
     },
     "output_type": "display_data"
    }
   ],
   "source": [
    "# half-cosine spacing\n",
    "coord_points = 200   # number of points for upper and lower surface\n",
    "beta = np.linspace(0, np.pi, coord_points)\n",
    "dx = (0.5*(1-np.cos(beta)))\n",
    "# uniform spacing\n",
    "#dx = np.linspace(0.0, chord, 200)\n",
    "\n",
    "chord = 1.0   # chord\n",
    "t = 0.18   # thickness\n",
    "m = 0.0    # camber\n",
    "p = 0.3    # location of maximum camber\n",
    "TE = True  # trailing edge closed\n",
    "\n",
    "# call the functoin\n",
    "x, y = ar.naca4(dx, t, m, p, TE, chord)\n",
    "X, Y = ar.convert_to_coordinates(x, y)\n",
    "\n",
    "# plot the results\n",
    "f1, ax1 = plt.subplots(figsize=(10,20))\n",
    "ax1.plot(X, Y)\n",
    "ax1.set_title('Airfoil')\n",
    "ax1.set_aspect('equal')"
   ]
  },
  {
   "cell_type": "markdown",
   "metadata": {},
   "source": [
    "Write to a .txt file"
   ]
  },
  {
   "cell_type": "code",
   "execution_count": 3,
   "metadata": {},
   "outputs": [],
   "source": [
    "# Create array for writing\n",
    "output_data = np.array(list(zip(X, Y, np.zeros(len(X), dtype=float))))"
   ]
  },
  {
   "cell_type": "markdown",
   "metadata": {},
   "source": [
    "We can make things easier by defining a characteristic length for the mesh and a fluid domain based on the geometry\n",
    "\n",
    "In this case:\n",
    "\n",
    "all variables are a factor of total length e.g. 40 is 40 * length of airfoil\n",
    "\n",
    "Lx_plus = length behind the airfoil\n",
    "\n",
    "Lx_minus = length in front of airfoil\n",
    "\n",
    "Ly = length top and bottom of airfoil"
   ]
  },
  {
   "cell_type": "code",
   "execution_count": 4,
   "metadata": {},
   "outputs": [],
   "source": [
    "output_file = 'naca0018.txt'\n",
    "np.savetxt(output_file, output_data, delimiter='\\t', fmt='%f')"
   ]
  },
  {
   "cell_type": "code",
   "execution_count": null,
   "metadata": {},
   "outputs": [],
   "source": []
  }
 ],
 "metadata": {
  "kernelspec": {
   "display_name": "Python 3",
   "language": "python",
   "name": "python3"
  },
  "language_info": {
   "codemirror_mode": {
    "name": "ipython",
    "version": 3
   },
   "file_extension": ".py",
   "mimetype": "text/x-python",
   "name": "python",
   "nbconvert_exporter": "python",
   "pygments_lexer": "ipython3",
   "version": "3.8.5"
  }
 },
 "nbformat": 4,
 "nbformat_minor": 4
}
