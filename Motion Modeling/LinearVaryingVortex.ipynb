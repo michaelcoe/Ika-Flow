{
 "cells": [
  {
   "cell_type": "code",
   "execution_count": null,
   "metadata": {},
   "outputs": [],
   "source": [
    "import os\n",
    "import numpy as np\n",
    "import matplotlib.pyplot as plt\n",
    "import class_definitions as cd\n",
    "import function_definitions as fd\n",
    "import airfoil as ar\n",
    "\n",
    "from scipy import linalg"
   ]
  },
  {
   "cell_type": "markdown",
   "metadata": {},
   "source": [
    "First we use the airfoil functions to make a NACA0012 airfoil\n",
    "\n",
    "The tail is a symmetric naca4 airfoil using the function **naca4(x, t, c, m=0.0, p=0.30, a4=True)** where, \n",
    "    **x** is a 1D numpy array of x-coordinates, \n",
    "    **c** is the chord length,\n",
    "    **t** is the maximum thickness,\n",
    "    **m** is the maximum camber (defaul is symmetric),\n",
    "    **p** is the location of maximum camber (should be a non-zero number), and \n",
    "    **a4** determines if it has an open or closed edge."
   ]
  },
  {
   "cell_type": "code",
   "execution_count": null,
   "metadata": {},
   "outputs": [],
   "source": [
    "chord = 1.0\n",
    "# half-cosine spacing\n",
    "beta = np.linspace(0, np.pi, 100)\n",
    "dx = (0.5*(1-np.cos(beta)))\n",
    "# uniform spacing\n",
    "# dx = np.linspace(0.0, chord, 100)\n",
    "x, y = ar.naca4(dx, 0.12, chord, 0.0, 0.30, True)"
   ]
  },
  {
   "cell_type": "code",
   "execution_count": null,
   "metadata": {},
   "outputs": [],
   "source": [
    "# plot geometry\n",
    "width = 10\n",
    "plt.figure(figsize=(width, width))\n",
    "plt.grid()\n",
    "plt.xlabel('x', fontsize=16)\n",
    "plt.ylabel('y', fontsize=16)\n",
    "plt.plot(x, y, color='k', linestyle='-', linewidth=2)\n",
    "plt.axis('scaled')\n",
    "plt.xlim(-0.1, 1.1)\n",
    "plt.ylim(-0.1, 0.1)"
   ]
  },
  {
   "cell_type": "code",
   "execution_count": null,
   "metadata": {},
   "outputs": [],
   "source": [
    "# discretize geoemetry into panels\n",
    "panels = fd.define_panels(x, y, N=40)"
   ]
  },
  {
   "cell_type": "code",
   "execution_count": null,
   "metadata": {},
   "outputs": [],
   "source": [
    "# plot discretized geometry\n",
    "width = 10\n",
    "plt.figure(figsize=(width, width))\n",
    "plt.grid()\n",
    "plt.xlabel('x', fontsize=16)\n",
    "plt.ylabel('y', fontsize=16)\n",
    "plt.plot(x, y, color='k', linestyle='-', linewidth=2)\n",
    "plt.plot(np.append([panel.xa for panel in panels], panels[0].xa),\n",
    "            np.append([panel.ya for panel in panels], panels[0].ya),\n",
    "            linestyle='-', linewidth=1, marker='o', markersize=6, color='#CD2305')\n",
    "plt.axis('scaled')\n",
    "plt.xlim(-0.1, 1.1)\n",
    "plt.ylim(-0.1, 0.1);"
   ]
  },
  {
   "cell_type": "code",
   "execution_count": null,
   "metadata": {},
   "outputs": [],
   "source": [
    "# define freestream conditions\n",
    "freestream = cd.Freestream(u_inf=1.0, alpha=4.0)"
   ]
  },
  {
   "cell_type": "code",
   "execution_count": null,
   "metadata": {},
   "outputs": [],
   "source": [
    "A_source = fd.source_contribution_normal(panels)\n",
    "B_vortex = fd.vortex_contribution_normal(panels)"
   ]
  },
  {
   "cell_type": "code",
   "execution_count": null,
   "metadata": {},
   "outputs": [],
   "source": [
    "A = fd.build_singularity_matrix(A_source, B_vortex)\n",
    "b = fd.build_freestream_rhs(panels, freestream)"
   ]
  },
  {
   "cell_type": "code",
   "execution_count": null,
   "metadata": {},
   "outputs": [],
   "source": [
    "# solve for singularity strengths\n",
    "strengths = np.linalg.solve(A, b)\n",
    "\n",
    "# store source strength on each panel\n",
    "for i , panel in enumerate(panels):\n",
    "    panel.sigma = strengths[i]\n",
    "    \n",
    "# store circulation density\n",
    "gamma = strengths[-1]"
   ]
  },
  {
   "cell_type": "code",
   "execution_count": null,
   "metadata": {},
   "outputs": [],
   "source": [
    "# tangential velocity at each panel center.\n",
    "fd.compute_tangential_velocity(panels, freestream, gamma, A_source, B_vortex)"
   ]
  },
  {
   "cell_type": "code",
   "execution_count": null,
   "metadata": {},
   "outputs": [],
   "source": [
    "# surface pressure coefficient\n",
    "fd.compute_pressure_coefficient(panels, freestream)"
   ]
  },
  {
   "cell_type": "code",
   "execution_count": null,
   "metadata": {},
   "outputs": [],
   "source": [
    "# plot surface pressure coefficient\n",
    "plt.figure(figsize=(10, 6))\n",
    "plt.grid()\n",
    "plt.xlabel('$x$', fontsize=16)\n",
    "plt.ylabel('$C_p$', fontsize=16)\n",
    "plt.plot([panel.xc for panel in panels if panel.loc == 'upper'],\n",
    "            [panel.cp for panel in panels if panel.loc == 'upper'],\n",
    "            label='upper surface',\n",
    "            color='r', linestyle='-', linewidth=2, marker='o', markersize=6)\n",
    "plt.plot([panel.xc for panel in panels if panel.loc == 'lower'],\n",
    "            [panel.cp for panel in panels if panel.loc == 'lower'],\n",
    "            label= 'lower surface',\n",
    "            color='b', linestyle='-', linewidth=1, marker='o', markersize=6)\n",
    "plt.legend(loc='best', prop={'size':16})\n",
    "plt.xlim(-0.1, 1.1)\n",
    "plt.ylim(1.0, -2.0)\n",
    "plt.title('Number of panels: {}'.format(panels.size), fontsize=16);"
   ]
  },
  {
   "cell_type": "code",
   "execution_count": null,
   "metadata": {},
   "outputs": [],
   "source": [
    "# calculate the accuracy\n",
    "accuracy = sum([panel.sigma * panel.length for panel in panels])\n",
    "print('sum of singularity strengths: {:0.6f}'.format(accuracy))"
   ]
  },
  {
   "cell_type": "code",
   "execution_count": null,
   "metadata": {},
   "outputs": [],
   "source": [
    "# compute the chord and lift coefficient\n",
    "c = abs(max(panel.xa for panel in panels) -\n",
    "        min(panel.xa for panel in panels))\n",
    "cl = (gamma * sum(panel.length for panel in panels) /\n",
    "      (0.5 * freestream.u_inf * c))\n",
    "print('lift coefficient: CL = {:0.3f}'.format(cl))"
   ]
  },
  {
   "cell_type": "code",
   "execution_count": null,
   "metadata": {},
   "outputs": [],
   "source": []
  }
 ],
 "metadata": {
  "kernelspec": {
   "display_name": "Python 3",
   "language": "python",
   "name": "python3"
  },
  "language_info": {
   "codemirror_mode": {
    "name": "ipython",
    "version": 3
   },
   "file_extension": ".py",
   "mimetype": "text/x-python",
   "name": "python",
   "nbconvert_exporter": "python",
   "pygments_lexer": "ipython3",
   "version": "3.8.5"
  }
 },
 "nbformat": 4,
 "nbformat_minor": 4
}
