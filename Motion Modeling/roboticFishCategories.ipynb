{
 "cells": [
  {
   "cell_type": "code",
   "execution_count": null,
   "metadata": {},
   "outputs": [],
   "source": [
    "#import common modules\n",
    "import pandas as pd\n",
    "import numpy as np\n",
    "import matplotlib.pyplot as plt\n",
    "\n",
    "from pathlib import Path"
   ]
  },
  {
   "cell_type": "code",
   "execution_count": null,
   "metadata": {},
   "outputs": [],
   "source": [
    "#database_location = r'/location/of/data'\n",
    "database_location = r'/location/of/data'\n",
    "figure_path = r'./figures'\n",
    "\n",
    "xl = pd.ExcelFile(Path(database_location))\n",
    "data = pd.read_excel(Path(database_location), sheet_name=None)"
   ]
  },
  {
   "cell_type": "code",
   "execution_count": null,
   "metadata": {},
   "outputs": [],
   "source": [
    "fig1, ax1 = plt.subplots(figsize=(12,10))\n",
    "for i, name in enumerate(xl.sheet_names):\n",
    "    ax1.bar(name, data[name].shape[0])\n",
    "\n",
    "    print(name, data[name].shape[0])\n",
    "#fig1.savefig(Path(figure_path).joinpath('AUVstatistics.pdf'), facecolor='w', dpi=300)"
   ]
  },
  {
   "cell_type": "code",
   "execution_count": null,
   "metadata": {},
   "outputs": [],
   "source": [
    "data_breakdown = dict()\n",
    "\n",
    "for i, name in enumerate(xl.sheet_names):\n",
    "    data_breakdown[name] = {}\n",
    "    df = data[name]\n",
    "    locomotion = df['Locomotion'].unique()\n",
    "    for mode in locomotion:\n",
    "        data_breakdown[name][mode] = df.loc[df['Locomotion']==mode].shape[0]"
   ]
  },
  {
   "cell_type": "code",
   "execution_count": null,
   "metadata": {},
   "outputs": [],
   "source": [
    "print(data_breakdown)"
   ]
  },
  {
   "cell_type": "code",
   "execution_count": null,
   "metadata": {},
   "outputs": [],
   "source": []
  }
 ],
 "metadata": {
  "interpreter": {
   "hash": "a78839fcd0a87f1bc59d97616e11f6dea7c5b71d26349f3e8a0d0e4afe02aaa0"
  },
  "kernelspec": {
   "display_name": "Python 3.9.5 64-bit",
   "name": "python3"
  },
  "language_info": {
   "codemirror_mode": {
    "name": "ipython",
    "version": 3
   },
   "file_extension": ".py",
   "mimetype": "text/x-python",
   "name": "python",
   "nbconvert_exporter": "python",
   "pygments_lexer": "ipython3",
   "version": "3.9.5"
  }
 },
 "nbformat": 4,
 "nbformat_minor": 4
}
