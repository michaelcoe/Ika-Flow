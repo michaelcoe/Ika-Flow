{
 "cells": [
  {
   "cell_type": "code",
   "execution_count": null,
   "metadata": {},
   "outputs": [],
   "source": [
    "#import common modules\n",
    "import os\n",
    "import sys\n",
    "import math\n",
    "import cv2 as cv2\n",
    "import numpy as np\n",
    "import matplotlib.pyplot as plt\n",
    "\n",
    "# import flow modules\n",
    "import class_definitions as cd\n",
    "import function_definitions as fd\n",
    "\n",
    "# import fish utility modules\n",
    "import airfoil as ar\n",
    "import fishUtilities as fu\n",
    "import fishFits as ff\n",
    "\n",
    "from scipy import integrate"
   ]
  },
  {
   "cell_type": "markdown",
   "metadata": {},
   "source": [
    "First we use the utililites written with Open CV2 to get the contours of the fish `paper to come`. We must pre-process the pictures before image segmentation and define the path."
   ]
  },
  {
   "cell_type": "code",
   "execution_count": null,
   "metadata": {},
   "outputs": [],
   "source": [
    "imagePath = r'/location/of/data'\n",
    "#imagePath = r'C:\\Documents\\Dropbox\\UUV Project\\Pictures\\powerThrustData\\UV Tunabot'\n",
    "\n",
    "specimen = 'UVTunabot'\n",
    "\n",
    "# reported data\n",
    "# total length\n",
    "t_length = 0.2553\n",
    "# width and height\n",
    "width = 0.0492\n",
    "height = 0.0678\n",
    "# mass\n",
    "mass = 0.306"
   ]
  },
  {
   "cell_type": "code",
   "execution_count": null,
   "metadata": {},
   "outputs": [],
   "source": [
    "imagePathTop = fu.get_image_files(imagePath, specimen+'Top.PNG')\n",
    "imagePathSide = fu.get_image_files(imagePath, specimen+'SideNF.PNG')\n",
    "imagePathSideFull = fu.get_image_files(imagePath, specimen+'Side.PNG')\n",
    "    \n",
    "# import images\n",
    "imageTop = cv2.imread(imagePathTop[0])\n",
    "imageSide = cv2.imread(imagePathSide[0])\n",
    "imageSideFull = cv2.imread(imagePathSideFull[0])\n",
    "    \n",
    "# make a copy of the image\n",
    "sideImage = imageSide.copy()\n",
    "topImage = imageTop.copy()\n",
    "sideImageFull = imageSideFull.copy()\n",
    "        \n",
    "# get contours\n",
    "cntsTop, hullTop = fu.get_contours(imageTop, 1)\n",
    "cntsSide, hullSide = fu.get_contours(imageSide, 1)\n",
    "cntsFull, hullFUll = fu.get_contours(imageSideFull, 1)\n",
    "    \n",
    "# determine the most extreme points along the contour\n",
    "extSideLeft = tuple(cntsSide[cntsSide[:, :, 0].argmin()][0])\n",
    "extSideRight = tuple(cntsSide[cntsSide[:, :, 0].argmax()][0])\n",
    "extTopLeft = tuple(cntsTop[cntsTop[:, :, 0].argmin()][0])\n",
    "extTopRight = tuple(cntsTop[cntsTop[:, :, 0].argmax()][0])\n",
    "extTop = tuple(cntsFull[cntsFull[:, :, 1].argmin()][0])\n",
    "extBot = tuple(cntsFull[cntsFull[:, :, 1].argmax()][0])\n",
    "    \n",
    "# Find the area ratio of fins and no fins\n",
    "areaFull = cv2.contourArea(cntsFull)\n",
    "areaNF = cv2.contourArea(cntsSide)\n",
    "areaRatio = (1-np.abs(areaNF/areaFull))\n",
    "    \n",
    "# split the hull into top and bottom\n",
    "(cxTop, cyTop), topHullTop, bottomHullTop = fu.split_by_centroid_top(imageTop.shape, cntsTop)\n",
    "(cxSide, cySide), areaSide, topHullSide, bottomHullSide = fu.split_by_centroid_side(imageSide.shape, cntsSide)\n",
    "(cxFull, cyFull), areaSideFull, topHullSideFull, bottomHullSideFull = fu.split_by_centroid_side(imageSideFull.shape, cntsFull)\n",
    "    \n",
    "# get contour data\n",
    "areaTop, tHullTop, bHullTop = fu.scale_data_top(topHullTop, bottomHullTop)\n",
    "scaleFactorSide, tHullSide, bHullSide = fu.scale_data(topHullSide, bottomHullSide)\n",
    "scaleFactorSideFull, tHullSideFull, bHullSideFull = fu.scale_data(topHullSideFull, bottomHullSideFull)\n",
    "        \n",
    "#areaTopRatio = 1-(areaTop/areaTopFull)\n",
    "# get min and max points\n",
    "maxPointsTop, minPointsTop = fu.get_min_max(tHullTop, bHullTop)\n",
    "maxPointsSide, minPointsSide = fu.get_min_max(tHullSide, bHullSide)\n",
    "        \n",
    "# half-cosine spacing\n",
    "chord = 1.0\n",
    "beta = np.linspace(0, np.pi, 20)\n",
    "#dx = (0.5*(1-np.cos(beta)))\n",
    "# uniform spacing\n",
    "dx = np.linspace(0.0, chord, 200)\n",
    "\n",
    "# fit data\n",
    "topPolyArea, topFitTop, bottomFitTop = ff.fit_top_contours_poly(tHullTop, bHullTop, 6)\n",
    "topFitSide, bottomFitSide = ff.fit_side_contours(tHullSide, bHullSide, 6)\n",
    "nacaArea, m, t, d0, xu, yu, xl, yl = ff.fit_top_contours(areaTop, dx, np.mean([minPointsTop[0],maxPointsTop[0]]),\n",
    "                                                 np.abs(minPointsTop[1])+maxPointsTop[1], (tHullTop[1,-5]+np.abs(bHullTop[1,-5]))/2.0)\n",
    "topPolyTop = np.poly1d(topFitTop)\n",
    "bottomPolyTop = np.poly1d(bottomFitTop)\n",
    "topPolySide = np.poly1d(topFitSide)\n",
    "bottomPolySide = np.poly1d(bottomFitSide)\n"
   ]
  },
  {
   "cell_type": "markdown",
   "metadata": {},
   "source": [
    "Lets plot the full top and side contour"
   ]
  },
  {
   "cell_type": "code",
   "execution_count": null,
   "metadata": {},
   "outputs": [],
   "source": [
    "x_hull_top = np.concatenate((np.flipud(tHullTop[0]), bHullTop[0]))\n",
    "y_hull_top = np.concatenate((np.flipud(tHullTop[1]), bHullTop[1]))\n",
    "\n",
    "# plot the two airfoils\n",
    "f1, (ax1, ax2) = plt.subplots(1, 2, figsize=(10,20), sharey=True)\n",
    "ax1.plot(tHullSideFull[0], tHullSideFull[1], 'o')\n",
    "ax1.plot(bHullSideFull[0], bHullSideFull[1], 'o')\n",
    "ax1.set_title('Full Body')\n",
    "ax1.set_aspect('equal')\n",
    "ax2.plot(tHullTop[0], tHullTop[1], 'o')\n",
    "ax2.plot(bHullTop[0], bHullTop[1], 'o')\n",
    "ax2.plot(x_hull_top, y_hull_top, 'r')\n",
    "ax2.set_title('Tail Airfoil')\n",
    "ax2.set_aspect('equal')"
   ]
  },
  {
   "cell_type": "markdown",
   "metadata": {},
   "source": [
    "First we use the airfoil script to make two airfoils. The first airfoil is the body and the second is the tail. \n",
    "\n",
    "The body is a modified naca4 airfoil using the function `naca4_modified(x, t, m, d0, c)` where,\n",
    "    **x** is a 1D numpy array of x-coordinates,\n",
    "    **t** is the maximum thickness,\n",
    "    **c** is the chord length,  \n",
    "    **m** is a float of the location of maximum thickness, and \n",
    "    **d0** is the thickness of the trailing edge.\n",
    "\n",
    "The tail is a symmetric naca4 airfoil using the function `naca4(x, t, m, p, a4, c)` where, \n",
    "    **x** is a 1D numpy array of x-coordinates, \n",
    "    **c** is the chord length,\n",
    "    **t** is the maximum thickness,\n",
    "    **m** is the maximum camber (defaul is symmetric),\n",
    "    **p** is the location of maximum camber (should be a non-zero number), and \n",
    "    **a4** determines if it has an open or closed edge.\n",
    "    \n",
    "Notice that the `convert_to_coordinates` method is called to put the data in the format of a .dat file"
   ]
  },
  {
   "cell_type": "code",
   "execution_count": null,
   "metadata": {},
   "outputs": [],
   "source": [
    "x, y = ar.naca4_modified(dx, t, m, d0, chord)\n",
    "X_body, Y_body = ar.convert_to_coordinates(x, y)\n",
    "x, y = ar.naca4(dx, 0.16, 0.0, 0.3, True, chord)\n",
    "X_tail, Y_tail = ar.convert_to_coordinates(x, y)\n",
    "\n",
    "# plot the two airfoils\n",
    "f1, (ax1, ax2) = plt.subplots(1, 2, figsize=(10,20), sharey=True)\n",
    "ax1.plot(X_body, Y_body)\n",
    "ax1.set_title('Body Airfoil')\n",
    "ax1.set_aspect('equal')\n",
    "ax2.plot(X_tail, Y_tail)\n",
    "ax2.set_title('Tail Airfoil')\n",
    "ax2.set_aspect('equal')"
   ]
  },
  {
   "cell_type": "markdown",
   "metadata": {},
   "source": [
    "Scale the tail down to what the aspect ratio is and place it at the standard length of the fish / robot. Use the airfoil to construct a top projection."
   ]
  },
  {
   "cell_type": "code",
   "execution_count": null,
   "metadata": {
    "scrolled": true
   },
   "outputs": [],
   "source": [
    "c_tail_length = 0.043478\n",
    "s_length = 0.8217 * t_length\n",
    "\n",
    "X_body = X_body * s_length\n",
    "Y_body = Y_body * s_length\n",
    "X_tail = X_tail * c_tail_length\n",
    "Y_tail = Y_tail * c_tail_length\n",
    "\n",
    "x_hull_top = x_hull_top * s_length\n",
    "y_hull_top = y_hull_top * s_length\n",
    "\n",
    "# new coordinates for the tail\n",
    "X_tail = X_tail - X_tail[0] + t_length\n",
    "\n",
    "f2, ax2 = plt.subplots()\n",
    "ax2.plot(X_body, Y_body)\n",
    "ax2.plot(X_tail, Y_tail)\n",
    "ax2.set_aspect('equal')"
   ]
  },
  {
   "cell_type": "markdown",
   "metadata": {},
   "source": [
    "Get a projected view in one coordinate system.  Remember that the .dat file goes around the airfoils counter-clockwise"
   ]
  },
  {
   "cell_type": "code",
   "execution_count": null,
   "metadata": {},
   "outputs": [],
   "source": [
    "# Give total width to ensure proper scaling\n",
    "width = np.amax(Y_body) + np.abs(np.amin(Y_body))\n",
    "print(width)\n",
    "\n",
    "# subtract the overlapping regions\n",
    "o_region_plus = np.where(Y_tail >= Y_body[0])[0][-1]\n",
    "o_region_minus = np.where(Y_tail <= Y_body[-1])[0][0]\n",
    "mask = np.ones(Y_tail.size, dtype=bool)\n",
    "mask[o_region_plus:o_region_minus] = False\n",
    "\n",
    "X_tail_proj = X_tail[mask] \n",
    "Y_tail_proj = Y_tail[mask]\n",
    "\n",
    "# find the half index to combine both airfoils into one coordinate system\n",
    "half_tail = int(len(X_tail_proj)/2)\n",
    "\n",
    "# combine into the projected frame\n",
    "X_proj = np.concatenate((X_tail_proj[0:(half_tail)], X_body, X_tail_proj[(half_tail)::]))\n",
    "Y_proj = np.concatenate((Y_tail_proj[0:(half_tail)], Y_body, Y_tail_proj[(half_tail)::]))\n",
    "\n",
    "f3, ax3 = plt.subplots(figsize=(15, 15))\n",
    "ax3.plot(X_proj, Y_proj)\n",
    "ax3.set_aspect('equal')"
   ]
  },
  {
   "cell_type": "markdown",
   "metadata": {},
   "source": [
    "Perform the same above operations for the contours"
   ]
  },
  {
   "cell_type": "code",
   "execution_count": null,
   "metadata": {},
   "outputs": [],
   "source": [
    "# find the half index to combine both airfoils into one coordinate system\n",
    "half_tail = int(len(X_tail)/2)\n",
    "\n",
    "# make a small change to the end of the body to make it more uniform and smoother transition\n",
    "connector_width = 0.0055 / 2\n",
    "y_hull_top[0:10] = connector_width\n",
    "y_hull_top[-1:-10] = -connector_width\n",
    "\n",
    "\n",
    "# combine into the projected frame\n",
    "X_proj_contour = np.concatenate((X_tail[0:(half_tail-5)], x_hull_top, X_tail[(half_tail+5)::]))\n",
    "Y_proj_contour = np.concatenate((Y_tail[0:(half_tail-5)], y_hull_top, Y_tail[(half_tail+5)::]))\n",
    "\n",
    "f4, ax4 = plt.subplots(figsize=(15, 15))\n",
    "ax4.plot(X_proj_contour, Y_proj_contour)\n",
    "ax4.set_aspect('equal')"
   ]
  },
  {
   "cell_type": "markdown",
   "metadata": {},
   "source": [
    "Output the coordinate text file to a csv file. The proper format depending on the modeler is the following:\n",
    "\n",
    "**Spaceclaim:** columns of z, x, y\n",
    "\n",
    "**DesignModeler:** columns of group, point number, x, y, z"
   ]
  },
  {
   "cell_type": "code",
   "execution_count": null,
   "metadata": {},
   "outputs": [],
   "source": [
    "output_file_airfoilDM = './UVTuna_airfoilDM.csv'\n",
    "output_file_contourDM = './UVTuna_contourDM.csv'\n",
    "output_file_airfoilSC = './UVTuna_airfoilSC.csv'\n",
    "output_file_contourSC = './UVTuna_contourSC.csv'\n",
    "\n",
    "for file in [output_file_airfoilDM, output_file_contourDM, output_file_airfoilSC, output_file_contourSC]:\n",
    "    if os.path.exists(file):\n",
    "        os.remove(file)\n",
    "\n",
    "# for spaceclaim coordinates\n",
    "output_data = np.array(list(zip(np.zeros(len(X_proj)), X_proj, Y_proj)))\n",
    "np.savetxt(output_file_airfoilSC, output_data, delimiter=',', fmt='%f', header='Polyline=True' )\n",
    "output_data = np.array(list(zip(np.zeros(len(X_proj_contour)), X_proj_contour, Y_proj_contour)))\n",
    "np.savetxt(output_file_contourSC, output_data, delimiter=',', fmt='%f', header='Polyline=True' )\n",
    "\n",
    "# for design modeler coordinates\n",
    "output_data = np.array(list(zip(np.ones(len(X_proj)),np.arange(1, len(X_proj), 1), \n",
    "                                X_proj, Y_proj, np.zeros(len(X_proj), dtype=float))))\n",
    "np.savetxt(output_file_airfoilDM, output_data, delimiter=',', fmt='%f', header='Group, Points, X-coord, Y-coord, Z-coord')\n",
    "output_data = np.array(list(zip(np.ones(len(X_proj_contour)),np.arange(1, len(X_proj_contour), 1), \n",
    "                                X_proj_contour, Y_proj_contour, np.zeros(len(X_proj_contour), dtype=float))))\n",
    "np.savetxt(output_file_contourDM, output_data, delimiter=',', fmt='%f', header='Group, Points, X-coord, Y-coord, Z-coord')"
   ]
  },
  {
   "cell_type": "code",
   "execution_count": null,
   "metadata": {},
   "outputs": [],
   "source": []
  }
 ],
 "metadata": {
  "kernelspec": {
   "display_name": "Python 3",
   "language": "python",
   "name": "python3"
  },
  "language_info": {
   "codemirror_mode": {
    "name": "ipython",
    "version": 3
   },
   "file_extension": ".py",
   "mimetype": "text/x-python",
   "name": "python",
   "nbconvert_exporter": "python",
   "pygments_lexer": "ipython3",
   "version": "3.8.5"
  }
 },
 "nbformat": 4,
 "nbformat_minor": 4
}
