{
 "cells": [
  {
   "cell_type": "markdown",
   "source": [
    "This script calculates an airfoil and outputs it to a format to be read by gmsh works for gmsh 4.7.1"
   ],
   "metadata": {}
  },
  {
   "cell_type": "code",
   "execution_count": 1,
   "source": [
    "#import common modules\n",
    "import os\n",
    "import sys\n",
    "import numpy as np\n",
    "import matplotlib.pyplot as plt\n",
    "\n",
    "# import fish utility modules\n",
    "import airfoil as ar\n",
    "\n",
    "from scipy import optimize"
   ],
   "outputs": [],
   "metadata": {}
  },
  {
   "cell_type": "markdown",
   "source": [
    "First we specify the thickness and chord length and then call the naca4 function in `airfoil.py`.  The format for that function is naca4(x_coordinates, thickness, camber, location of max thickness, closed trailing edge, chord length)  "
   ],
   "metadata": {}
  },
  {
   "cell_type": "code",
   "execution_count": 2,
   "source": [
    "# half-cosine spacing\n",
    "coord_points = 50   # number of points for upper and lower surface\n",
    "beta = np.linspace(0, np.pi, coord_points)\n",
    "dx = (0.5*(1-np.cos(beta)))\n",
    "# uniform spacing\n",
    "#dx = np.linspace(0.0, chord, 200)\n",
    "\n",
    "chord = 1.0   # chord\n",
    "t = 0.12   # thickness\n",
    "m = 0.0    # camber\n",
    "p = 0.3    # location of maximum camber\n",
    "TE = True  # trailing edge closed\n",
    "\n",
    "# call the functoin\n",
    "x, y = ar.naca4(dx, t, m, p, TE, chord)\n",
    "\n",
    "#convert coordinates to upper and lower arrays\n",
    "xu = x[0]\n",
    "xl = x[1]\n",
    "yu = y[0]\n",
    "yl = y[1]\n",
    "\n",
    "# plot the results\n",
    "f1, ax1 = plt.subplots(figsize=(10,20))\n",
    "ax1.plot(xu, yu)\n",
    "ax1.plot(xl, yl)\n",
    "ax1.set_title('Airfoil')\n",
    "ax1.set_aspect('equal')"
   ],
   "outputs": [
    {
     "output_type": "display_data",
     "data": {
      "text/plain": [
       "<Figure size 720x1440 with 1 Axes>"
      ],
      "image/png": "[encoded data removed]"
     },
     "metadata": {
      "needs_background": "light"
     }
    }
   ],
   "metadata": {}
  },
  {
   "cell_type": "markdown",
   "source": [
    "Write to a .geo file"
   ],
   "metadata": {}
  },
  {
   "cell_type": "code",
   "execution_count": 3,
   "source": [
    "# Create array for writing\n",
    "point = np.zeros((2*coord_points-2,3));\n",
    "ind = 0;\n",
    "\n",
    "point[0:coord_points, 0] = xu\n",
    "point[0:coord_points, 1] = yu\n",
    "point[0:coord_points, 2] = 0.0\n",
    "\n",
    "point[coord_points:, 0] = np.flipud(xl[1:-1])\n",
    "point[coord_points:, 1] = np.flipud(yl[1:-1])\n",
    "point[coord_points:, 2] = 0.0\n",
    "\n",
    "num_points = point.shape[0];\n",
    "airfoil_point_numbers = np.arange(1, num_points, 1)\n",
    "num_lines = num_points;"
   ],
   "outputs": [],
   "metadata": {}
  },
  {
   "cell_type": "markdown",
   "source": [
    "We can make things easier by defining a characteristic length for the mesh and a fluid domain based on the geometry\n",
    "\n",
    "In this case:\n",
    "\n",
    "all variables are a factor of total length e.g. 40 is 40 * length of airfoil\n",
    "\n",
    "Lx_plus = length behind the airfoil\n",
    "\n",
    "Lx_minus = length in front of airfoil\n",
    "\n",
    "Ly = length top and bottom of airfoil"
   ],
   "metadata": {}
  },
  {
   "cell_type": "markdown",
   "source": [
    "No we should calculate the y+ value and all our boundary layer values\n",
    "\n",
    "Credit to https://www.fluidmechanics101.com/pdf/calculators.pdf\n",
    "\n",
    "For the calculation processes"
   ],
   "metadata": {}
  },
  {
   "cell_type": "code",
   "execution_count": 5,
   "source": [
    "# Define our setup variables\n",
    "U = 1.0                                 # Freestream Velocity\n",
    "L = 1.0                                 # Length            \n",
    "density = 1025                          # fluid density\n",
    "kinVisc = 2.5e-11                       # kinematic viscosity of fluid\n",
    "dynamicVisc = density * kinVisc         # dynamic viscosity of fluid\n",
    "yPlus = 5.0                             # desired Y+\n",
    "growth_ratio = 1.1                      # growth ratio\n",
    "N = 20                                  # number of inflation layers\n",
    "\n",
    "# calculate the Reynolds Number\n",
    "Re = U * L / kinVisc\n",
    "\n",
    "# calculate the skin friction coefficient\n",
    "Cf = (2*np.log10(Re) - 0.65)**(-2.3)\n",
    "\n",
    "# calculate the shear wall stress\n",
    "tw = 0.5 * density * U**2 * Cf\n",
    "\n",
    "# calculate the friction velocity\n",
    "ut = np.sqrt(tw / density)\n",
    "\n",
    "# calculate yp where yp is the distance to the centroid of the first cell\n",
    "# based on desired y+. yH is the first cell height which is 2 times the centroid\n",
    "yp =  (yPlus * dynamicVisc) / (ut * density)\n",
    "\n",
    "yH = 2 * yp\n",
    "\n",
    "# Estimate the boundary layer thickness using the Blasius solution\n",
    "# laminar and turbulent are given here\n",
    "if ( Re < 4e5):\n",
    "    delta = 4.91 * L / np.sqrt(Re)\n",
    "else:\n",
    "    delta = 0.38 * L / Re**(1/5)\n",
    "\n",
    "# calculate the total thickness of the inflation layers yT\n",
    "# specify the growth ratio\n",
    "yT = yH * ((1 - growth_ratio**N)/(1 - growth_ratio))\n",
    "\n",
    "#f = lambda r: (1.14e-8 * ((1 - r**20)/(1 - r)) - 0.00288)\n",
    "\n",
    "#growth_ratio_calc = optimize.fsolve(f, 1.1)\n",
    "# Give the final layer thickness\n",
    "yFinal = yH * growth_ratio**(N - 1)"
   ],
   "outputs": [],
   "metadata": {}
  },
  {
   "cell_type": "markdown",
   "source": [
    "We can make things easier by defining a characteristic length for the mesh and a fluid domain based on the geometry\n",
    "\n",
    "In this case:\n",
    "\n",
    "all variables are a factor of total length e.g. 40 is 40 * length of airfoil\n",
    "\n",
    "Lx_plus = length behind the airfoil\n",
    "\n",
    "Lx_minus = length in front of airfoil\n",
    "\n",
    "Ly = length top and bottom of airfoil"
   ],
   "metadata": {}
  },
  {
   "cell_type": "code",
   "execution_count": 15,
   "source": [
    "airfoil_cl = 0.005\n",
    "wall_cl = 0.1\n",
    "Lx_plus = 1.5\n",
    "Lx_minus = -0.5\n",
    "Ly_plus = 0.5\n",
    "Ly_minus = -0.5 \n",
    "\n",
    "\n",
    "hfar = 0.01\n",
    "hwall_n = 0.0005\n",
    "thickness = 0.02"
   ],
   "outputs": [],
   "metadata": {}
  },
  {
   "cell_type": "code",
   "execution_count": 16,
   "source": [
    "#Write data to the .geo file\n",
    "with open('airfoil_bl.geo', 'w') as df:\n",
    "    # first we write the variables for easy changing locally later\n",
    "    df.write('airfoil_cl = %f;\\n' % (airfoil_cl))\n",
    "    df.write('wall_cl = %f;\\n' % (wall_cl))\n",
    "    df.write('Lx_plus = %f;\\n' % (Lx_plus * chord))\n",
    "    df.write('Lx_minus = %f;\\n' % (Lx_minus * chord))\n",
    "    df.write('Ly_plus = %f;\\n' % (Ly_plus * chord))\n",
    "    df.write('Ly_minus = %f;\\n' % (Ly_minus * chord))\n",
    "    df.write('\\n')\n",
    "\n",
    "    for i in np.arange(0, num_points, 1):\n",
    "        df.write('Point(%i) = {%f, %f, %f, airfoil_cl};\\n' % (i+1, point[i,0], point[i,1],\n",
    "                                                    point[i,2]))\n",
    "    df.write('\\n')\n",
    "    \n",
    "    # define the domain point numbers and domain line numbers\n",
    "    domain_points = np.arange(num_points + 1, num_points + 5, 1)\n",
    "    domain_lines = np.arange(num_lines + 1, num_lines + 5, 1)\n",
    "    line_loops = np.array([101, 102])\n",
    "    plane_surface = np.array([201])\n",
    "    \n",
    "    # write the fluid domain points\n",
    "    df.write('// Define bounding box corners for fluid domain \\n')        \n",
    "    df.write('Point(%i) = {Lx_minus, Ly_minus, 0.0000, wall_cl};\\n' % (domain_points[0]))\n",
    "    df.write('Point(%i) = {Lx_minus, Ly_plus, 0.0000, wall_cl};\\n' % (domain_points[1]))\n",
    "    df.write('Point(%i) = {Lx_plus, Ly_plus, 0.0000, wall_cl};\\n' % (domain_points[2]))\n",
    "    df.write('Point(%i) = {Lx_plus, Ly_minus, 0.0000, wall_cl};\\n' % (domain_points[3]))\n",
    "    df.write('\\n')\n",
    "    \n",
    "    # write the fluid domain lines\n",
    "    df.write('// Make line loops for the fluid domain\\n')\n",
    "    df.write('Line(%i) = {%i, %i};\\n' % (domain_lines[0], domain_points[0], domain_points[1]))\n",
    "    df.write('Line(%i) = {%i, %i};\\n' % (domain_lines[1], domain_points[1], domain_points[2]))\n",
    "    df.write('Line(%i) = {%i, %i};\\n' % (domain_lines[2], domain_points[2], domain_points[3]))\n",
    "    df.write('Line(%i) = {%i, %i};\\n' % (domain_lines[3], domain_points[3], domain_points[0]))\n",
    "    df.write('\\n')\n",
    "    \n",
    "    # combine the loops into a surface\n",
    "    df.write('// Combine the fluid domain lines\\n')\n",
    "    df.write('Line Loop(' + str(line_loops[0]) + ') = {' + np.array2string(domain_lines, separator = ', ').strip('[]') + '}; \\n')\n",
    "    \n",
    "    df.write('\\n')\n",
    "    df.write('// combine foil points into a bspline \\n')\n",
    "    df.write('BSpline(5) = {'  + str(airfoil_point_numbers[0]) + ':' + str(coord_points) + '}; \\n')\n",
    "    df.write('BSpline(6) = {' + str(coord_points) + ':' + str(num_points) + ',' +  str(airfoil_point_numbers[0]) + '}; \\n')\n",
    "    df.write('Line Loop(' + str(line_loops[1]) + ') = {5, 6}; \\n') \n",
    "    df.write('\\n')\n",
    "\n",
    "    df.write('Plane Surface(' + str(plane_surface[0]) + ') = {101, 102}; \\n')\n",
    "    \n",
    "    df.write('\\n')\n",
    "    # extrude the surface so we can name the boundaries\n",
    "    df.write('Extrude {0, 0, 1} {\\n Surface{' + str(plane_surface[0]) + '};\\n Layers{1};\\n Recombine;\\n}')\n",
    "    df.write('\\n')\n",
    "\n",
    "    # define the physical surface patches\n",
    "    df.write('// Define the physical surfaces -> values are obtained via the GUI \\n')\n",
    "    df.write('Physical Surface(\"overset\") = {212, 216, 220, 224}; \\n')\n",
    "    df.write('Physical Surface(\"symFront\") = {233}; \\n')\n",
    "    df.write('Physical Surface(\"symBack\") = {201}; \\n')\n",
    "    df.write('Physical Surface(\"wingTop\") = {232}; \\n')\n",
    "    df.write('Physical Surface(\"wingBottom\") = {228}; \\n')\n",
    "    df.write('\\n')\n",
    "\n",
    "    # define the internal volume\n",
    "    df.write('// Define the internal volume - usually 1 but obtained from GUI \\n')\n",
    "    df.write('Physical Volume(\"internal\") = {1};\\n')\n",
    "    df.write('\\n')\n",
    "\n",
    "    # define the boundary layer addition\n",
    "    df.write('//Define the boundary layer \\n')\n",
    "    df.write('Field[1] = BoundaryLayer; \\n')\n",
    "    df.write('Field[1].EdgesList = {5, 6}; \\n')\n",
    "    df.write('Field[1].NodesList = {1, 1021, 1022, ' + str(airfoil_point_numbers[-1]) + '}; \\n')\n",
    "    df.write('Field[1].hfar = ' + str(hfar) + '; \\n')\n",
    "    df.write('Field[1].hwall_n = ' + str(hwall_n) + '; \\n')\n",
    "    df.write('Field[1].thickness = ' + str(thickness) + '; \\n')\n",
    "    df.write('Field[1].ratio = ' + str(growth_ratio) + '; \\n')\n",
    "    df.write('Field[1].AnisoMax = 10; \\n')\n",
    "    df.write('Field[1].Quads = 1; \\n')\n",
    "    df.write('Field[1].IntersectMetrics = 0; \\n')\n",
    "    df.write('BoundaryLayer Field = 1; \\n')"
   ],
   "outputs": [],
   "metadata": {}
  },
  {
   "cell_type": "code",
   "execution_count": null,
   "source": [],
   "outputs": [],
   "metadata": {}
  }
 ],
 "metadata": {
  "kernelspec": {
   "name": "python3",
   "display_name": "Python 3.8.10 64-bit"
  },
  "language_info": {
   "codemirror_mode": {
    "name": "ipython",
    "version": 3
   },
   "file_extension": ".py",
   "mimetype": "text/x-python",
   "name": "python",
   "nbconvert_exporter": "python",
   "pygments_lexer": "ipython3",
   "version": "3.8.10"
  },
  "interpreter": {
   "hash": "31f2aee4e71d21fbe5cf8b01ff0e069b9275f58929596ceb00d14d90e3e16cd6"
  }
 },
 "nbformat": 4,
 "nbformat_minor": 4
}