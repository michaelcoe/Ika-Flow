{
 "cells": [
  {
   "cell_type": "markdown",
   "metadata": {},
   "source": [
    "This script calculates an airfoil and outputs it to a format to be read by gmsh works for gmsh 4.7.1"
   ]
  },
  {
   "cell_type": "code",
   "execution_count": 1,
   "metadata": {},
   "outputs": [],
   "source": [
    "#import common modules\n",
    "import os\n",
    "import sys\n",
    "import numpy as np\n",
    "import matplotlib.pyplot as plt\n",
    "\n",
    "# import fish utility modules\n",
    "import airfoil as ar\n",
    "\n",
    "from scipy import optimize"
   ]
  },
  {
   "cell_type": "markdown",
   "metadata": {},
   "source": [
    "First we specify the thickness and chord length and then call the naca4 function in `airfoil.py`.  The format for that function is naca4(x_coordinates, thickness, camber, location of max thickness, closed trailing edge, chord length)  "
   ]
  },
  {
   "cell_type": "code",
   "execution_count": 2,
   "metadata": {},
   "outputs": [
    {
     "output_type": "display_data",
     "data": {
      "text/plain": "<Figure size 720x1440 with 1 Axes>",
      "image/svg+xml": "<?xml version=\"1.0\" encoding=\"utf-8\" standalone=\"no\"?>\r\n<!DOCTYPE svg PUBLIC \"-//W3C//DTD SVG 1.1//EN\"\r\n  \"http://www.w3.org/Graphics/SVG/1.1/DTD/svg11.dtd\">\r\n<svg height=\"113.16415pt\" version=\"1.1\" viewBox=\"0 0 610.045312 113.16415\" width=\"610.045312pt\" xmlns=\"http://www.w3.org/2000/svg\" xmlns:xlink=\"http://www.w3.org/1999/xlink\">\r\n <metadata>\r\n  <rdf:RDF xmlns:cc=\"http://creativecommons.org/ns#\" xmlns:dc=\"http://purl.org/dc/elements/1.1/\" xmlns:rdf=\"http://www.w3.org/1999/02/22-rdf-syntax-ns#\">\r\n   <cc:Work>\r\n    <dc:type rdf:resource=\"http://purl.org/dc/dcmitype/StillImage\"/>\r\n    <dc:date>2021-07-31T12:10:35.770423</dc:date>\r\n    <dc:format>image/svg+xml</dc:format>\r\n    <dc:creator>\r\n     <cc:Agent>\r\n      <dc:title>Matplotlib v3.4.2, https://matplotlib.org/</dc:title>\r\n     </cc:Agent>\r\n    </dc:creator>\r\n   </cc:Work>\r\n  </rdf:RDF>\r\n </metadata>\r\n <defs>\r\n  <style type=\"text/css\">*{stroke-linecap:butt;stroke-linejoin:round;}</style>\r\n </defs>\r\n <g id=\"figure_1\">\r\n  <g id=\"patch_1\">\r\n   <path d=\"M 0 113.16415 \r\nL 610.045312 113.16415 \r\nL 610.045312 -0 \r\nL 0 -0 \r\nz\r\n\" style=\"fill:none;\"/>\r\n  </g>\r\n  <g id=\"axes_1\">\r\n   <g id=\"patch_2\">\r\n    <path d=\"M 44.845313 89.286025 \r\nL 602.845312 89.286025 \r\nL 602.845312 22.318125 \r\nL 44.845313 22.318125 \r\nz\r\n\" style=\"fill:#ffffff;\"/>\r\n   </g>\r\n   <g id=\"matplotlib.axis_1\">\r\n    <g id=\"xtick_1\">\r\n     <g id=\"line2d_1\">\r\n      <defs>\r\n       <path d=\"M 0 0 \r\nL 0 3.5 \r\n\" id=\"m16d2b02a25\" style=\"stroke:#000000;stroke-width:0.8;\"/>\r\n      </defs>\r\n      <g>\r\n       <use style=\"stroke:#000000;stroke-width:0.8;\" x=\"70.208949\" xlink:href=\"#m16d2b02a25\" y=\"89.286025\"/>\r\n      </g>\r\n     </g>\r\n     <g id=\"text_1\">\r\n      <!-- 0.0 -->\r\n      <g transform=\"translate(62.257386 103.884462)scale(0.1 -0.1)\">\r\n       <defs>\r\n        <path d=\"M 2034 4250 \r\nQ 1547 4250 1301 3770 \r\nQ 1056 3291 1056 2328 \r\nQ 1056 1369 1301 889 \r\nQ 1547 409 2034 409 \r\nQ 2525 409 2770 889 \r\nQ 3016 1369 3016 2328 \r\nQ 3016 3291 2770 3770 \r\nQ 2525 4250 2034 4250 \r\nz\r\nM 2034 4750 \r\nQ 2819 4750 3233 4129 \r\nQ 3647 3509 3647 2328 \r\nQ 3647 1150 3233 529 \r\nQ 2819 -91 2034 -91 \r\nQ 1250 -91 836 529 \r\nQ 422 1150 422 2328 \r\nQ 422 3509 836 4129 \r\nQ 1250 4750 2034 4750 \r\nz\r\n\" id=\"DejaVuSans-30\" transform=\"scale(0.015625)\"/>\r\n        <path d=\"M 684 794 \r\nL 1344 794 \r\nL 1344 0 \r\nL 684 0 \r\nL 684 794 \r\nz\r\n\" id=\"DejaVuSans-2e\" transform=\"scale(0.015625)\"/>\r\n       </defs>\r\n       <use xlink:href=\"#DejaVuSans-30\"/>\r\n       <use x=\"63.623047\" xlink:href=\"#DejaVuSans-2e\"/>\r\n       <use x=\"95.410156\" xlink:href=\"#DejaVuSans-30\"/>\r\n      </g>\r\n     </g>\r\n    </g>\r\n    <g id=\"xtick_2\">\r\n     <g id=\"line2d_2\">\r\n      <g>\r\n       <use style=\"stroke:#000000;stroke-width:0.8;\" x=\"171.663494\" xlink:href=\"#m16d2b02a25\" y=\"89.286025\"/>\r\n      </g>\r\n     </g>\r\n     <g id=\"text_2\">\r\n      <!-- 0.2 -->\r\n      <g transform=\"translate(163.711932 103.884462)scale(0.1 -0.1)\">\r\n       <defs>\r\n        <path d=\"M 1228 531 \r\nL 3431 531 \r\nL 3431 0 \r\nL 469 0 \r\nL 469 531 \r\nQ 828 903 1448 1529 \r\nQ 2069 2156 2228 2338 \r\nQ 2531 2678 2651 2914 \r\nQ 2772 3150 2772 3378 \r\nQ 2772 3750 2511 3984 \r\nQ 2250 4219 1831 4219 \r\nQ 1534 4219 1204 4116 \r\nQ 875 4013 500 3803 \r\nL 500 4441 \r\nQ 881 4594 1212 4672 \r\nQ 1544 4750 1819 4750 \r\nQ 2544 4750 2975 4387 \r\nQ 3406 4025 3406 3419 \r\nQ 3406 3131 3298 2873 \r\nQ 3191 2616 2906 2266 \r\nQ 2828 2175 2409 1742 \r\nQ 1991 1309 1228 531 \r\nz\r\n\" id=\"DejaVuSans-32\" transform=\"scale(0.015625)\"/>\r\n       </defs>\r\n       <use xlink:href=\"#DejaVuSans-30\"/>\r\n       <use x=\"63.623047\" xlink:href=\"#DejaVuSans-2e\"/>\r\n       <use x=\"95.410156\" xlink:href=\"#DejaVuSans-32\"/>\r\n      </g>\r\n     </g>\r\n    </g>\r\n    <g id=\"xtick_3\">\r\n     <g id=\"line2d_3\">\r\n      <g>\r\n       <use style=\"stroke:#000000;stroke-width:0.8;\" x=\"273.11804\" xlink:href=\"#m16d2b02a25\" y=\"89.286025\"/>\r\n      </g>\r\n     </g>\r\n     <g id=\"text_3\">\r\n      <!-- 0.4 -->\r\n      <g transform=\"translate(265.166477 103.884462)scale(0.1 -0.1)\">\r\n       <defs>\r\n        <path d=\"M 2419 4116 \r\nL 825 1625 \r\nL 2419 1625 \r\nL 2419 4116 \r\nz\r\nM 2253 4666 \r\nL 3047 4666 \r\nL 3047 1625 \r\nL 3713 1625 \r\nL 3713 1100 \r\nL 3047 1100 \r\nL 3047 0 \r\nL 2419 0 \r\nL 2419 1100 \r\nL 313 1100 \r\nL 313 1709 \r\nL 2253 4666 \r\nz\r\n\" id=\"DejaVuSans-34\" transform=\"scale(0.015625)\"/>\r\n       </defs>\r\n       <use xlink:href=\"#DejaVuSans-30\"/>\r\n       <use x=\"63.623047\" xlink:href=\"#DejaVuSans-2e\"/>\r\n       <use x=\"95.410156\" xlink:href=\"#DejaVuSans-34\"/>\r\n      </g>\r\n     </g>\r\n    </g>\r\n    <g id=\"xtick_4\">\r\n     <g id=\"line2d_4\">\r\n      <g>\r\n       <use style=\"stroke:#000000;stroke-width:0.8;\" x=\"374.572585\" xlink:href=\"#m16d2b02a25\" y=\"89.286025\"/>\r\n      </g>\r\n     </g>\r\n     <g id=\"text_4\">\r\n      <!-- 0.6 -->\r\n      <g transform=\"translate(366.621023 103.884462)scale(0.1 -0.1)\">\r\n       <defs>\r\n        <path d=\"M 2113 2584 \r\nQ 1688 2584 1439 2293 \r\nQ 1191 2003 1191 1497 \r\nQ 1191 994 1439 701 \r\nQ 1688 409 2113 409 \r\nQ 2538 409 2786 701 \r\nQ 3034 994 3034 1497 \r\nQ 3034 2003 2786 2293 \r\nQ 2538 2584 2113 2584 \r\nz\r\nM 3366 4563 \r\nL 3366 3988 \r\nQ 3128 4100 2886 4159 \r\nQ 2644 4219 2406 4219 \r\nQ 1781 4219 1451 3797 \r\nQ 1122 3375 1075 2522 \r\nQ 1259 2794 1537 2939 \r\nQ 1816 3084 2150 3084 \r\nQ 2853 3084 3261 2657 \r\nQ 3669 2231 3669 1497 \r\nQ 3669 778 3244 343 \r\nQ 2819 -91 2113 -91 \r\nQ 1303 -91 875 529 \r\nQ 447 1150 447 2328 \r\nQ 447 3434 972 4092 \r\nQ 1497 4750 2381 4750 \r\nQ 2619 4750 2861 4703 \r\nQ 3103 4656 3366 4563 \r\nz\r\n\" id=\"DejaVuSans-36\" transform=\"scale(0.015625)\"/>\r\n       </defs>\r\n       <use xlink:href=\"#DejaVuSans-30\"/>\r\n       <use x=\"63.623047\" xlink:href=\"#DejaVuSans-2e\"/>\r\n       <use x=\"95.410156\" xlink:href=\"#DejaVuSans-36\"/>\r\n      </g>\r\n     </g>\r\n    </g>\r\n    <g id=\"xtick_5\">\r\n     <g id=\"line2d_5\">\r\n      <g>\r\n       <use style=\"stroke:#000000;stroke-width:0.8;\" x=\"476.027131\" xlink:href=\"#m16d2b02a25\" y=\"89.286025\"/>\r\n      </g>\r\n     </g>\r\n     <g id=\"text_5\">\r\n      <!-- 0.8 -->\r\n      <g transform=\"translate(468.075568 103.884462)scale(0.1 -0.1)\">\r\n       <defs>\r\n        <path d=\"M 2034 2216 \r\nQ 1584 2216 1326 1975 \r\nQ 1069 1734 1069 1313 \r\nQ 1069 891 1326 650 \r\nQ 1584 409 2034 409 \r\nQ 2484 409 2743 651 \r\nQ 3003 894 3003 1313 \r\nQ 3003 1734 2745 1975 \r\nQ 2488 2216 2034 2216 \r\nz\r\nM 1403 2484 \r\nQ 997 2584 770 2862 \r\nQ 544 3141 544 3541 \r\nQ 544 4100 942 4425 \r\nQ 1341 4750 2034 4750 \r\nQ 2731 4750 3128 4425 \r\nQ 3525 4100 3525 3541 \r\nQ 3525 3141 3298 2862 \r\nQ 3072 2584 2669 2484 \r\nQ 3125 2378 3379 2068 \r\nQ 3634 1759 3634 1313 \r\nQ 3634 634 3220 271 \r\nQ 2806 -91 2034 -91 \r\nQ 1263 -91 848 271 \r\nQ 434 634 434 1313 \r\nQ 434 1759 690 2068 \r\nQ 947 2378 1403 2484 \r\nz\r\nM 1172 3481 \r\nQ 1172 3119 1398 2916 \r\nQ 1625 2713 2034 2713 \r\nQ 2441 2713 2670 2916 \r\nQ 2900 3119 2900 3481 \r\nQ 2900 3844 2670 4047 \r\nQ 2441 4250 2034 4250 \r\nQ 1625 4250 1398 4047 \r\nQ 1172 3844 1172 3481 \r\nz\r\n\" id=\"DejaVuSans-38\" transform=\"scale(0.015625)\"/>\r\n       </defs>\r\n       <use xlink:href=\"#DejaVuSans-30\"/>\r\n       <use x=\"63.623047\" xlink:href=\"#DejaVuSans-2e\"/>\r\n       <use x=\"95.410156\" xlink:href=\"#DejaVuSans-38\"/>\r\n      </g>\r\n     </g>\r\n    </g>\r\n    <g id=\"xtick_6\">\r\n     <g id=\"line2d_6\">\r\n      <g>\r\n       <use style=\"stroke:#000000;stroke-width:0.8;\" x=\"577.481676\" xlink:href=\"#m16d2b02a25\" y=\"89.286025\"/>\r\n      </g>\r\n     </g>\r\n     <g id=\"text_6\">\r\n      <!-- 1.0 -->\r\n      <g transform=\"translate(569.530114 103.884462)scale(0.1 -0.1)\">\r\n       <defs>\r\n        <path d=\"M 794 531 \r\nL 1825 531 \r\nL 1825 4091 \r\nL 703 3866 \r\nL 703 4441 \r\nL 1819 4666 \r\nL 2450 4666 \r\nL 2450 531 \r\nL 3481 531 \r\nL 3481 0 \r\nL 794 0 \r\nL 794 531 \r\nz\r\n\" id=\"DejaVuSans-31\" transform=\"scale(0.015625)\"/>\r\n       </defs>\r\n       <use xlink:href=\"#DejaVuSans-31\"/>\r\n       <use x=\"63.623047\" xlink:href=\"#DejaVuSans-2e\"/>\r\n       <use x=\"95.410156\" xlink:href=\"#DejaVuSans-30\"/>\r\n      </g>\r\n     </g>\r\n    </g>\r\n   </g>\r\n   <g id=\"matplotlib.axis_2\">\r\n    <g id=\"ytick_1\">\r\n     <g id=\"line2d_7\">\r\n      <defs>\r\n       <path d=\"M 0 0 \r\nL -3.5 0 \r\n\" id=\"m2daad7e519\" style=\"stroke:#000000;stroke-width:0.8;\"/>\r\n      </defs>\r\n      <g>\r\n       <use style=\"stroke:#000000;stroke-width:0.8;\" x=\"44.845313\" xlink:href=\"#m2daad7e519\" y=\"81.165711\"/>\r\n      </g>\r\n     </g>\r\n     <g id=\"text_7\">\r\n      <!-- −0.05 -->\r\n      <g transform=\"translate(7.2 84.96493)scale(0.1 -0.1)\">\r\n       <defs>\r\n        <path d=\"M 678 2272 \r\nL 4684 2272 \r\nL 4684 1741 \r\nL 678 1741 \r\nL 678 2272 \r\nz\r\n\" id=\"DejaVuSans-2212\" transform=\"scale(0.015625)\"/>\r\n        <path d=\"M 691 4666 \r\nL 3169 4666 \r\nL 3169 4134 \r\nL 1269 4134 \r\nL 1269 2991 \r\nQ 1406 3038 1543 3061 \r\nQ 1681 3084 1819 3084 \r\nQ 2600 3084 3056 2656 \r\nQ 3513 2228 3513 1497 \r\nQ 3513 744 3044 326 \r\nQ 2575 -91 1722 -91 \r\nQ 1428 -91 1123 -41 \r\nQ 819 9 494 109 \r\nL 494 744 \r\nQ 775 591 1075 516 \r\nQ 1375 441 1709 441 \r\nQ 2250 441 2565 725 \r\nQ 2881 1009 2881 1497 \r\nQ 2881 1984 2565 2268 \r\nQ 2250 2553 1709 2553 \r\nQ 1456 2553 1204 2497 \r\nQ 953 2441 691 2322 \r\nL 691 4666 \r\nz\r\n\" id=\"DejaVuSans-35\" transform=\"scale(0.015625)\"/>\r\n       </defs>\r\n       <use xlink:href=\"#DejaVuSans-2212\"/>\r\n       <use x=\"83.789062\" xlink:href=\"#DejaVuSans-30\"/>\r\n       <use x=\"147.412109\" xlink:href=\"#DejaVuSans-2e\"/>\r\n       <use x=\"179.199219\" xlink:href=\"#DejaVuSans-30\"/>\r\n       <use x=\"242.822266\" xlink:href=\"#DejaVuSans-35\"/>\r\n      </g>\r\n     </g>\r\n    </g>\r\n    <g id=\"ytick_2\">\r\n     <g id=\"line2d_8\">\r\n      <g>\r\n       <use style=\"stroke:#000000;stroke-width:0.8;\" x=\"44.845313\" xlink:href=\"#m2daad7e519\" y=\"55.802075\"/>\r\n      </g>\r\n     </g>\r\n     <g id=\"text_8\">\r\n      <!-- 0.00 -->\r\n      <g transform=\"translate(15.579688 59.601294)scale(0.1 -0.1)\">\r\n       <use xlink:href=\"#DejaVuSans-30\"/>\r\n       <use x=\"63.623047\" xlink:href=\"#DejaVuSans-2e\"/>\r\n       <use x=\"95.410156\" xlink:href=\"#DejaVuSans-30\"/>\r\n       <use x=\"159.033203\" xlink:href=\"#DejaVuSans-30\"/>\r\n      </g>\r\n     </g>\r\n    </g>\r\n    <g id=\"ytick_3\">\r\n     <g id=\"line2d_9\">\r\n      <g>\r\n       <use style=\"stroke:#000000;stroke-width:0.8;\" x=\"44.845313\" xlink:href=\"#m2daad7e519\" y=\"30.438439\"/>\r\n      </g>\r\n     </g>\r\n     <g id=\"text_9\">\r\n      <!-- 0.05 -->\r\n      <g transform=\"translate(15.579688 34.237657)scale(0.1 -0.1)\">\r\n       <use xlink:href=\"#DejaVuSans-30\"/>\r\n       <use x=\"63.623047\" xlink:href=\"#DejaVuSans-2e\"/>\r\n       <use x=\"95.410156\" xlink:href=\"#DejaVuSans-30\"/>\r\n       <use x=\"159.033203\" xlink:href=\"#DejaVuSans-35\"/>\r\n      </g>\r\n     </g>\r\n    </g>\r\n   </g>\r\n   <g id=\"line2d_10\">\r\n    <path clip-path=\"url(#p6affdfe8c2)\" d=\"M 70.208949 55.802075 \r\nL 73.668218 48.606216 \r\nL 83.951667 42.04418 \r\nL 100.778788 36.299836 \r\nL 123.690583 31.595636 \r\nL 152.062078 28.134883 \r\nL 185.119371 26.048578 \r\nL 221.960746 25.36212 \r\nL 261.581266 25.989412 \r\nL 302.900188 27.752194 \r\nL 344.790437 30.414505 \r\nL 386.109359 33.718776 \r\nL 425.729879 37.412144 \r\nL 462.571254 41.257801 \r\nL 495.628547 45.033606 \r\nL 524.000042 48.525648 \r\nL 546.911837 51.525778 \r\nL 563.738958 53.839078 \r\nL 574.022407 55.301487 \r\nL 577.481676 55.802075 \r\n\" style=\"fill:none;stroke:#1f77b4;stroke-linecap:square;stroke-width:1.5;\"/>\r\n   </g>\r\n   <g id=\"line2d_11\">\r\n    <path clip-path=\"url(#p6affdfe8c2)\" d=\"M 70.208949 55.802075 \r\nL 73.668218 62.997934 \r\nL 83.951667 69.55997 \r\nL 100.778788 75.304313 \r\nL 123.690583 80.008513 \r\nL 152.062078 83.469266 \r\nL 185.119371 85.555572 \r\nL 221.960746 86.242029 \r\nL 261.581266 85.614738 \r\nL 302.900188 83.851956 \r\nL 344.790437 81.189645 \r\nL 386.109359 77.885374 \r\nL 425.729879 74.192005 \r\nL 462.571254 70.346348 \r\nL 495.628547 66.570544 \r\nL 524.000042 63.078502 \r\nL 546.911837 60.078372 \r\nL 563.738958 57.765071 \r\nL 574.022407 56.302662 \r\nL 577.481676 55.802075 \r\n\" style=\"fill:none;stroke:#ff7f0e;stroke-linecap:square;stroke-width:1.5;\"/>\r\n   </g>\r\n   <g id=\"patch_3\">\r\n    <path d=\"M 44.845313 89.286025 \r\nL 44.845313 22.318125 \r\n\" style=\"fill:none;stroke:#000000;stroke-linecap:square;stroke-linejoin:miter;stroke-width:0.8;\"/>\r\n   </g>\r\n   <g id=\"patch_4\">\r\n    <path d=\"M 602.845312 89.286025 \r\nL 602.845312 22.318125 \r\n\" style=\"fill:none;stroke:#000000;stroke-linecap:square;stroke-linejoin:miter;stroke-width:0.8;\"/>\r\n   </g>\r\n   <g id=\"patch_5\">\r\n    <path d=\"M 44.845313 89.286025 \r\nL 602.845312 89.286025 \r\n\" style=\"fill:none;stroke:#000000;stroke-linecap:square;stroke-linejoin:miter;stroke-width:0.8;\"/>\r\n   </g>\r\n   <g id=\"patch_6\">\r\n    <path d=\"M 44.845313 22.318125 \r\nL 602.845312 22.318125 \r\n\" style=\"fill:none;stroke:#000000;stroke-linecap:square;stroke-linejoin:miter;stroke-width:0.8;\"/>\r\n   </g>\r\n   <g id=\"text_10\">\r\n    <!-- Airfoil -->\r\n    <g transform=\"translate(306.490312 16.318125)scale(0.12 -0.12)\">\r\n     <defs>\r\n      <path d=\"M 2188 4044 \r\nL 1331 1722 \r\nL 3047 1722 \r\nL 2188 4044 \r\nz\r\nM 1831 4666 \r\nL 2547 4666 \r\nL 4325 0 \r\nL 3669 0 \r\nL 3244 1197 \r\nL 1141 1197 \r\nL 716 0 \r\nL 50 0 \r\nL 1831 4666 \r\nz\r\n\" id=\"DejaVuSans-41\" transform=\"scale(0.015625)\"/>\r\n      <path d=\"M 603 3500 \r\nL 1178 3500 \r\nL 1178 0 \r\nL 603 0 \r\nL 603 3500 \r\nz\r\nM 603 4863 \r\nL 1178 4863 \r\nL 1178 4134 \r\nL 603 4134 \r\nL 603 4863 \r\nz\r\n\" id=\"DejaVuSans-69\" transform=\"scale(0.015625)\"/>\r\n      <path d=\"M 2631 2963 \r\nQ 2534 3019 2420 3045 \r\nQ 2306 3072 2169 3072 \r\nQ 1681 3072 1420 2755 \r\nQ 1159 2438 1159 1844 \r\nL 1159 0 \r\nL 581 0 \r\nL 581 3500 \r\nL 1159 3500 \r\nL 1159 2956 \r\nQ 1341 3275 1631 3429 \r\nQ 1922 3584 2338 3584 \r\nQ 2397 3584 2469 3576 \r\nQ 2541 3569 2628 3553 \r\nL 2631 2963 \r\nz\r\n\" id=\"DejaVuSans-72\" transform=\"scale(0.015625)\"/>\r\n      <path d=\"M 2375 4863 \r\nL 2375 4384 \r\nL 1825 4384 \r\nQ 1516 4384 1395 4259 \r\nQ 1275 4134 1275 3809 \r\nL 1275 3500 \r\nL 2222 3500 \r\nL 2222 3053 \r\nL 1275 3053 \r\nL 1275 0 \r\nL 697 0 \r\nL 697 3053 \r\nL 147 3053 \r\nL 147 3500 \r\nL 697 3500 \r\nL 697 3744 \r\nQ 697 4328 969 4595 \r\nQ 1241 4863 1831 4863 \r\nL 2375 4863 \r\nz\r\n\" id=\"DejaVuSans-66\" transform=\"scale(0.015625)\"/>\r\n      <path d=\"M 1959 3097 \r\nQ 1497 3097 1228 2736 \r\nQ 959 2375 959 1747 \r\nQ 959 1119 1226 758 \r\nQ 1494 397 1959 397 \r\nQ 2419 397 2687 759 \r\nQ 2956 1122 2956 1747 \r\nQ 2956 2369 2687 2733 \r\nQ 2419 3097 1959 3097 \r\nz\r\nM 1959 3584 \r\nQ 2709 3584 3137 3096 \r\nQ 3566 2609 3566 1747 \r\nQ 3566 888 3137 398 \r\nQ 2709 -91 1959 -91 \r\nQ 1206 -91 779 398 \r\nQ 353 888 353 1747 \r\nQ 353 2609 779 3096 \r\nQ 1206 3584 1959 3584 \r\nz\r\n\" id=\"DejaVuSans-6f\" transform=\"scale(0.015625)\"/>\r\n      <path d=\"M 603 4863 \r\nL 1178 4863 \r\nL 1178 0 \r\nL 603 0 \r\nL 603 4863 \r\nz\r\n\" id=\"DejaVuSans-6c\" transform=\"scale(0.015625)\"/>\r\n     </defs>\r\n     <use xlink:href=\"#DejaVuSans-41\"/>\r\n     <use x=\"68.408203\" xlink:href=\"#DejaVuSans-69\"/>\r\n     <use x=\"96.191406\" xlink:href=\"#DejaVuSans-72\"/>\r\n     <use x=\"137.304688\" xlink:href=\"#DejaVuSans-66\"/>\r\n     <use x=\"172.509766\" xlink:href=\"#DejaVuSans-6f\"/>\r\n     <use x=\"233.691406\" xlink:href=\"#DejaVuSans-69\"/>\r\n     <use x=\"261.474609\" xlink:href=\"#DejaVuSans-6c\"/>\r\n    </g>\r\n   </g>\r\n  </g>\r\n </g>\r\n <defs>\r\n  <clipPath id=\"p6affdfe8c2\">\r\n   <rect height=\"66.9679\" width=\"558\" x=\"44.845313\" y=\"22.318125\"/>\r\n  </clipPath>\r\n </defs>\r\n</svg>\r\n",
      "image/png": "[encoded data removed]"
     },
     "metadata": {
      "needs_background": "light"
     }
    }
   ],
   "source": [
    "# half-cosine spacing\n",
    "coord_points = 20   # number of points for upper and lower surface\n",
    "beta = np.linspace(0, np.pi, coord_points)\n",
    "dx = (0.5*(1-np.cos(beta)))\n",
    "# uniform spacing\n",
    "#dx = np.linspace(0.0, chord, 200)\n",
    "\n",
    "chord = 1.0   # chord\n",
    "t = 0.12   # thickness\n",
    "m = 0.0    # camber\n",
    "p = 0.3    # location of maximum camber\n",
    "TE = True  # trailing edge closed\n",
    "\n",
    "# call the functoin\n",
    "x, y = ar.naca4(dx, t, m, p, TE, chord)\n",
    "\n",
    "#convert coordinates to upper and lower arrays\n",
    "xu = x[0]\n",
    "xl = x[1]\n",
    "yu = y[0]\n",
    "yl = y[1]\n",
    "\n",
    "# plot the results\n",
    "f1, ax1 = plt.subplots(figsize=(10,20))\n",
    "ax1.plot(xu, yu)\n",
    "ax1.plot(xl, yl)\n",
    "ax1.set_title('Airfoil')\n",
    "ax1.set_aspect('equal')"
   ]
  },
  {
   "cell_type": "markdown",
   "metadata": {},
   "source": [
    "Write to a .geo file"
   ]
  },
  {
   "cell_type": "code",
   "execution_count": 3,
   "metadata": {},
   "outputs": [],
   "source": [
    "# Create array for writing\n",
    "point = np.zeros((2*coord_points-2,3));\n",
    "ind = 0;\n",
    "\n",
    "point[0:coord_points, 0] = xu\n",
    "point[0:coord_points, 1] = yu\n",
    "point[0:coord_points, 2] = 0.0\n",
    "\n",
    "point[coord_points:, 0] = np.flipud(xl[1:-1])\n",
    "point[coord_points:, 1] = np.flipud(yl[1:-1])\n",
    "point[coord_points:, 2] = 0.0\n",
    "\n",
    "num_points = point.shape[0];\n",
    "airfoil_point_numbers = np.arange(1, num_points, 1)\n",
    "num_lines = num_points;"
   ]
  },
  {
   "cell_type": "markdown",
   "metadata": {},
   "source": [
    "We can make things easier by defining a characteristic length for the mesh and a fluid domain based on the geometry\n",
    "\n",
    "In this case:\n",
    "\n",
    "all variables are a factor of total length e.g. 40 is 40 * length of airfoil\n",
    "\n",
    "Lx_plus = length behind the airfoil\n",
    "\n",
    "Lx_minus = length in front of airfoil\n",
    "\n",
    "Ly = length top and bottom of airfoil"
   ]
  },
  {
   "cell_type": "code",
   "execution_count": 4,
   "metadata": {},
   "outputs": [],
   "source": [
    "airfoil_cl = 0.05\n",
    "wall_cl = 0.25\n",
    "Lx_plus = 1.5\n",
    "Lx_minus = -0.5\n",
    "Ly_plus = 0.5\n",
    "Ly_minus = -0.5 "
   ]
  },
  {
   "source": [
    "No we should calculate the y+ value and all our boundary layer values\n",
    "\n",
    "Credit to https://www.fluidmechanics101.com/pdf/calculators.pdf\n",
    "\n",
    "For the calculation processes"
   ],
   "cell_type": "markdown",
   "metadata": {}
  },
  {
   "cell_type": "code",
   "execution_count": 44,
   "metadata": {},
   "outputs": [],
   "source": [
    "# Define our setup variables\n",
    "U = 1.0                                 # Freestream Velocity\n",
    "L = 1.0                                 # Length            \n",
    "density = 1025                          # fluid density\n",
    "kinVisc = 2.5e-11                       # kinematic viscosity of fluid\n",
    "dynamicVisc = density * kinVisc         # dynamic viscosity of fluid\n",
    "yPlus = 5.0                             # desired Y+\n",
    "growth_ratio = 1.1                      # growth ratio\n",
    "N = 20                                  # number of inflation layers\n",
    "\n",
    "# calculate the Reynolds Number\n",
    "Re = U * L / kinVisc\n",
    "\n",
    "# calculate the skin friction coefficient\n",
    "Cf = (2*np.log10(Re) - 0.65)**(-2.3)\n",
    "\n",
    "# calculate the shear wall stress\n",
    "tw = 0.5 * density * U**2 * Cf\n",
    "\n",
    "# calculate the friction velocity\n",
    "ut = np.sqrt(tw / density)\n",
    "\n",
    "# calculate yp where yp is the distance to the centroid of the first cell\n",
    "# based on desired y+. yH is the first cell height which is 2 times the centroid\n",
    "yp =  (yPlus * dynamicVisc) / (ut * density)\n",
    "\n",
    "yH = 2 * yp\n",
    "\n",
    "# Estimate the boundary layer thickness using the Blasius solution\n",
    "# laminar and turbulent are given here\n",
    "if ( Re < 4e5):\n",
    "    delta = 4.91 * L / np.sqrt(Re)\n",
    "else:\n",
    "    delta = 0.38 * L / Re**(1/5)\n",
    "\n",
    "# calculate the total thickness of the inflation layers yT\n",
    "# specify the growth ratio\n",
    "yT = yH * ((1 - growth_ratio**N)/(1 - growth_ratio))\n",
    "\n",
    "#f = lambda r: (1.14e-8 * ((1 - r**20)/(1 - r)) - 0.00288)\n",
    "\n",
    "#growth_ratio_calc = optimize.fsolve(f, 1.1)\n",
    "# Give the final layer thickness\n",
    "yFinal = yH * growth_ratio**(N - 1)"
   ]
  },
  {
   "source": [
    "#Write data to the .geo file\n",
    "with open('airfoil_bl.geo', 'w') as df:\n",
    "    # first we write the variables for easy changing locally later\n",
    "    df.write('airfoil_cl = %f;\\n' % (airfoil_cl))\n",
    "    df.write('wall_cl = %f;\\n' % (wall_cl))\n",
    "    df.write('Lx_plus = %f;\\n' % (Lx_plus * chord))\n",
    "    df.write('Lx_minus = %f;\\n' % (Lx_minus * chord))\n",
    "    df.write('Ly_plus = %f;\\n' % (Ly_plus * chord))\n",
    "    df.write('Ly_minus = %f;\\n' % (Ly_minus * chord))\n",
    "    df.write('\\n')\n",
    "\n",
    "    for i in np.arange(0, num_points, 1):\n",
    "        df.write('Point(%i) = {%f, %f, %f, airfoil_cl};\\n' % (i+1, point[i,0], point[i,1],\n",
    "                                                    point[i,2]))\n",
    "    df.write('\\n')\n",
    "    \n",
    "    # define the domain point numbers and domain line numbers\n",
    "    domain_points = np.arange(num_points + 1, num_points + 5, 1)\n",
    "    domain_lines = np.arange(num_lines + 1, num_lines + 5, 1)\n",
    "    line_loops = np.array([101, 102])\n",
    "    plane_surface = np.array([201])\n",
    "    \n",
    "    # write the fluid domain points\n",
    "    df.write('// Define bounding box corners for fluid domain \\n')        \n",
    "    df.write('Point(%i) = {Lx_minus, Ly_minus, 0.0000, wall_cl};\\n' % (domain_points[0]))\n",
    "    df.write('Point(%i) = {Lx_minus, Ly_plus, 0.0000, wall_cl};\\n' % (domain_points[1]))\n",
    "    df.write('Point(%i) = {Lx_plus, Ly_plus, 0.0000, wall_cl};\\n' % (domain_points[2]))\n",
    "    df.write('Point(%i) = {Lx_plus, Ly_minus, 0.0000, wall_cl};\\n' % (domain_points[3]))\n",
    "    df.write('\\n')\n",
    "    \n",
    "    # write the fluid domain lines\n",
    "    df.write('// Make line loops for the fluid domain\\n')\n",
    "    df.write('Line(%i) = {%i, %i};\\n' % (domain_lines[0], domain_points[0], domain_points[1]))\n",
    "    df.write('Line(%i) = {%i, %i};\\n' % (domain_lines[1], domain_points[1], domain_points[2]))\n",
    "    df.write('Line(%i) = {%i, %i};\\n' % (domain_lines[2], domain_points[2], domain_points[3]))\n",
    "    df.write('Line(%i) = {%i, %i};\\n' % (domain_lines[3], domain_points[3], domain_points[0]))\n",
    "    df.write('\\n')\n",
    "    \n",
    "    # combine the loops into a surface\n",
    "    df.write('// Combine the fluid domain lines\\n')\n",
    "    df.write('Line Loop(' + str(line_loops[0]) + ') = {' + np.array2string(domain_lines, separator = ', ').strip('[]') + '};\\n')\n",
    "    \n",
    "    df.write('\\n')\n",
    "    df.write('// combine foil points into a bspline \\n')\n",
    "    df.write('BSpline(1) = {'  + str(airfoil_point_numbers[0]) + ':' + str(coord_points) + '};\\n')\n",
    "    df.write('BSpline(2) = {' + str(coord_points) + ':' + str(num_points) + ',' +  str(airfoil_point_numbers[0]) + '};\\n')\n",
    "    df.write('Line Loop(' + str(line_loops[1]) + ') = {1, 2};\\n') \n",
    "    df.write('\\n')\n",
    "\n",
    "    df.write('Plane Surface(' + str(plane_surface[0]) + ') = {101, 102};\\n')\n",
    "    \n",
    "    df.write('\\n')\n",
    "    # extrude the surface so we can name the boundaries\n",
    "    df.write('Extrude {0, 0, 1} {\\n Surface{' + str(plane_surface[0]) + '};\\n Layers{1};\\n Recombine;\\n}')\n",
    "    df.write('\\n')\n",
    "\n",
    "    # define the physical surface patches\n",
    "    df.write('// Define the physical surfaces -> values are obtained via the GUI \\n')\n",
    "    df.write('Physical Surface(\"overset\") = {212, 216, 220, 224}; \\n')\n",
    "    df.write('Physical Surface(\"symFront\") = {233}; \\n')\n",
    "    df.write('Physical Surface(\"symBack\") = {201}; \\n')\n",
    "    df.write('Physical Surface(\"wingTop\") = {232}; \\n')\n",
    "    df.write('Physical Surface(\"wingBottom\") = {228}; \\n')\n",
    "    df.write('\\n')\n",
    "\n",
    "    # define the internal volume\n",
    "    df.write('// Define the internal volume - usually 1 but obtained from GUI\\n')\n",
    "    df.write('Physical Volume(\"internal\") = {1};\\n')\n",
    "    df.write('\\n')\n",
    "\n",
    "    # define the boundary layer addition\n",
    "    df.write('Define the boundary layer \\n')\n",
    "    df.write('Field[1] = BoundaryLayer;\\n')\n",
    "    df.write('Field[1].EdgesList = {')"
   ],
   "cell_type": "code",
   "metadata": {},
   "execution_count": null,
   "outputs": []
  },
  {
   "cell_type": "code",
   "execution_count": null,
   "metadata": {},
   "outputs": [],
   "source": [
    "//Define Boundary Layer\n",
    "Field[1] = BoundaryLayer;\n",
    "Field[1].EdgesList = {5, 227, 208, -226, 206, 6};\n",
    "Field[1].NodesList = {1,1021, 1022, 160};\n",
    "Field[1].FacesList = {232, 228};\n",
    "Field[1].FanNodesList = {1,1021, 1022, 160};\n",
    "Field[1].FansList = {5, 6};\n",
    "Field[1].hfar = 0.01;\n",
    "Field[1].hwall_n = 0.0005;\n",
    "Field[1].thickness = 0.02;\n",
    "Field[1].ratio = 1.11;\n",
    "Field[1].AnisoMax = 10;\n",
    "Field[1].Quads = 1;\n",
    "Field[1].IntersectMetrics = 0;\n",
    "BoundaryLayer Field = 1;"
   ]
  }
 ],
 "metadata": {
  "kernelspec": {
   "name": "python3",
   "display_name": "Python 3.9.5 64-bit"
  },
  "language_info": {
   "codemirror_mode": {
    "name": "ipython",
    "version": 3
   },
   "file_extension": ".py",
   "mimetype": "text/x-python",
   "name": "python",
   "nbconvert_exporter": "python",
   "pygments_lexer": "ipython3",
   "version": "3.9.5"
  },
  "interpreter": {
   "hash": "a78839fcd0a87f1bc59d97616e11f6dea7c5b71d26349f3e8a0d0e4afe02aaa0"
  }
 },
 "nbformat": 4,
 "nbformat_minor": 4
}