{
 "cells": [
  {
   "cell_type": "code",
   "execution_count": null,
   "metadata": {},
   "outputs": [],
   "source": [
    "import numpy as np\n",
    "import processingIO as pio\n",
    "import matplotlib.pyplot as plt\n",
    "import pandas as pd\n",
    "\n",
    "from pathlib import Path\n",
    "from dataUtilities import filterData\n",
    "from forceClass import Forces, ForceCoefficients\n",
    "\n",
    "from scipy import stats\n",
    "from scipy.optimize import curve_fit\n",
    "from scipy.stats.distributions import  t\n",
    "\n",
    "from mpl_toolkits.axes_grid1.inset_locator import (inset_axes, InsetPosition,\n",
    "                                                  mark_inset)"
   ]
  },
  {
   "cell_type": "code",
   "execution_count": null,
   "metadata": {},
   "outputs": [],
   "source": [
    "def power_law(xData, a, b, c):\n",
    "        return a + (b * xData) + (c * xData**2)\n",
    "\n",
    "def fit_data(xData, yData):\n",
    "\n",
    "    popt, pcov = curve_fit(power_law, xData, yData, p0=[0.5, 0.5, 0.5])\n",
    "\n",
    "    residuals = yData - power_law(xData, *popt)\n",
    "\n",
    "    ss_res = np.sum(residuals**2)\n",
    "    ss_total = np.sum((yData-np.mean(yData))**2)\n",
    "\n",
    "    r_squared = 1 - (ss_res/ss_total)\n",
    "\n",
    "    return popt, r_squared"
   ]
  },
  {
   "cell_type": "code",
   "execution_count": null,
   "metadata": {},
   "outputs": [],
   "source": [
    "data_location = r'/location/of/data'\n",
    "\n",
    "force_paths = pio.get_files(data_location, 'force.dat')\n",
    "force_paths.sort()\n",
    "coefficients_paths = pio.get_files(data_location, 'coefficient.dat')\n",
    "coefficients_paths.sort()\n",
    "solver_paths = pio.get_files(data_location, 'log.solver')\n",
    "solver_paths.sort()\n",
    "\n",
    "tmp = []\n",
    "\n",
    "constantDict = {'parentCase':[], 'specificCase':[], 'totalTime':[]}\n",
    "\n",
    "for solverFile in solver_paths:\n",
    "    constantDict['parentCase'].append(solverFile.parts[-4])\n",
    "    constantDict['specificCase'].append(solverFile.parts[-3])\n",
    "    with open(solverFile, 'r') as f:\n",
    "        for line in f:\n",
    "            if 'ExecutionTime' in line:\n",
    "                tmp.append(line.split()[2])\n",
    "\n",
    "    constantDict['totalTime'].append(tmp[-1]) \n",
    "\n",
    "cycles =  2\n",
    "total_cycles = 4.0\n",
    "\n",
    "forces = [Forces(filepath, cycles, total_cycles, True, True) for filepath in force_paths]\n",
    "coeffs = [ForceCoefficients(filepath, cycles, total_cycles, True, True) for filepath in coefficients_paths]"
   ]
  },
  {
   "cell_type": "code",
   "execution_count": null,
   "metadata": {},
   "outputs": [],
   "source": [
    "plt.rcParams.update({'font.size':20})\n",
    "\n",
    "density = 1025\n",
    "fudgeFactor = 1.0\n",
    "U = 1.0\n",
    "kinvis = 2.5e-5\n",
    "chord = 1.0\n",
    "\n",
    "St = [0.05, 0.10, 0.25, 0.50, 0.75, 1.0, 1.25, 1.50, 2.50]\n",
    "average_fx = []\n",
    "case = []\n",
    "\n",
    "fig1, ax1 = plt.subplots(figsize=(12,10))\n",
    "for force in forces:\n",
    "    average_fx.append(force.averageFilteredForces['total']['x']/density)\n",
    "    case.append(force.specific_case)\n",
    "\n",
    "    ax1.plot(force.filteredForces['time']/force.filteredForces['time'][-1], force.filteredForces['total']['x'], label=force.specific_case)\n",
    "\n",
    "ax1.set_xlabel('Time [s]')\n",
    "ax1.set_ylabel('$\\mathrm{F_x}$ [N]')\n",
    "#ax2 = plt.axes([0, 0, 1, 1])\n",
    "#ip = InsetPosition(ax1, [0.2,0.4,0.55,0.55])\n",
    "#ax2.set_axes_locator(ip)\n",
    "#mark_inset(ax1, ax2, loc1=2, loc2=4, fc=\"none\", ec='0.5')\n",
    "\n",
    "ax1.set_ylim([-5000, 5000])\n",
    "ax1.legend()\n",
    "\n",
    "average_fx = np.asarray(average_fx)"
   ]
  },
  {
   "cell_type": "code",
   "execution_count": null,
   "metadata": {},
   "outputs": [],
   "source": [
    "anderson_data = r'/location/of/data'\n",
    "andersonDF = pd.read_excel(anderson_data, sheet_name='alpha15')"
   ]
  },
  {
   "cell_type": "code",
   "execution_count": null,
   "metadata": {},
   "outputs": [],
   "source": [
    "e_force = np.array([0.0703, 0.08278, -0.00388, -0.188966, -0.56408, -1.14173, -1.8766147, -2.850414246, -8.68766])\n",
    "e_st = np.array([0.05, 0.1, 0.25, 0.5, 0.75, 1, 1.25, 1.5, 2.5])\n",
    "\n",
    "e_fit, e_r_squared = fit_data(e_st, e_force)\n",
    "ika_fit, ika_r_squared = fit_data(e_st, average_fx)\n",
    "\n",
    "fig2, ax2 = plt.subplots(figsize=(12,10))\n",
    "ax2.plot(e_st, e_force, 'o-', label=\"Experiment\")\n",
    "ax2.plot(e_st, power_law(e_st, *e_fit), '--', label='Experiment Fit Line')\n",
    "ax2.plot(e_st, average_fx, 'o-', label='Ika Flow')\n",
    "ax2.plot(e_st, power_law(e_st, *ika_fit), '--', label='Ika Fit Line')\n",
    "\n",
    "ax2.set_xlabel(r'St')\n",
    "ax2.set_ylabel('$\\mathrm{F_x}$')\n",
    "\n",
    "ax2.legend()"
   ]
  },
  {
   "cell_type": "code",
   "execution_count": null,
   "metadata": {},
   "outputs": [],
   "source": []
  }
 ],
 "metadata": {
  "interpreter": {
   "hash": "916dbcbb3f70747c44a77c7bcd40155683ae19c65e1c03b4aa3499c5328201f1"
  },
  "kernelspec": {
   "display_name": "Python 3.8.10 64-bit",
   "name": "python3"
  },
  "language_info": {
   "codemirror_mode": {
    "name": "ipython",
    "version": 3
   },
   "file_extension": ".py",
   "mimetype": "text/x-python",
   "name": "python",
   "nbconvert_exporter": "python",
   "pygments_lexer": "ipython3",
   "version": "3.8.10"
  }
 },
 "nbformat": 4,
 "nbformat_minor": 4
}
