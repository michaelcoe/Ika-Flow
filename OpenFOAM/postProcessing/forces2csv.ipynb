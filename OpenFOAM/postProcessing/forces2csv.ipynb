{
 "cells": [
  {
   "cell_type": "code",
   "execution_count": 1,
   "metadata": {},
   "outputs": [],
   "source": [
    "import numpy as np\n",
    "import py_scripts.processingIO as pio\n",
    "import pandas as pd\n",
    "\n",
    "from pathlib import Path\n",
    "from py_scripts.forceClass import Forces\n",
    "from py_scripts.forceBinsClass import ForceBins"
   ]
  },
  {
   "cell_type": "code",
   "execution_count": 2,
   "metadata": {},
   "outputs": [],
   "source": [
    "data_location = r'./'\n",
    "force_flag = 1\n",
    "forceBin_flag = 1\n",
    "\n",
    "force_paths = pio.get_files(data_location, 'force_0.dat')\n",
    "force_paths.sort()\n",
    "\n",
    "forceBins_paths = pio.get_files(data_location, 'forceBin_0.dat')\n",
    "forceBins_paths.sort()"
   ]
  },
  {
   "cell_type": "code",
   "execution_count": 3,
   "metadata": {},
   "outputs": [],
   "source": [
    "total_cycles = 20\n",
    "number_cycles = 20\n",
    "if force_flag == 1:\n",
    "    forces = [Forces(force_path, number_cycles, total_cycles, True, True, filterWindow = 101) for force_path in force_paths]\n",
    "if forceBin_flag == 1:\n",
    "    forceBins = [ForceBins(forceBin_path, number_cycles, total_cycles, True, True) for forceBin_path in forceBins_paths]"
   ]
  },
  {
   "cell_type": "code",
   "execution_count": 4,
   "metadata": {},
   "outputs": [],
   "source": [
    "density = 1026.021\n",
    "U = 1.0\n",
    "A = 1.0\n",
    "\n",
    "for force in forces:\n",
    "    force.toCoefficients(density, U, A)"
   ]
  },
  {
   "cell_type": "code",
   "execution_count": 5,
   "metadata": {},
   "outputs": [],
   "source": [
    "save_location = Path(r'Output_data/')\n",
    "if ~save_location.joinpath('forces').is_dir():\n",
    "    Path.mkdir(save_location.joinpath('forces'), parents=True, exist_ok=True)\n",
    "    Path.mkdir(save_location.joinpath('force_bins'),  parents=True, exist_ok=True)"
   ]
  },
  {
   "cell_type": "code",
   "execution_count": 6,
   "metadata": {},
   "outputs": [],
   "source": [
    "if force_flag == 1:    \n",
    "    for i, force in enumerate(forces):\n",
    "        df = pd.DataFrame({'time':force.filteredForces['time'], 'total_x':force.filteredForces['total']['x'], 'total_y':force.filteredForces['total']['y'], \n",
    "            'total_z':force.filteredForces['total']['z'], 'pressure_x':force.filteredForces['pressure']['x'], 'pressure_y':force.filteredForces['pressure']['y'], \n",
    "            'pressure_z':force.filteredForces['pressure']['z'], 'viscous_x':force.filteredForces['viscous']['x'], 'viscous_y':force.filteredForces['viscous']['y'], \n",
    "            'viscous_z':force.filteredForces['viscous']['z'],'CD':force.Cd, 'CDf':force.Cdf, 'CDp':force.Cdp, 'CL':force.Cl})\n",
    "        save_file = force_paths[i].parts[1] + '_' + force_paths[i].parts[2] + '.csv'\n",
    "\n",
    "        df.to_csv(save_location.joinpath('forces', save_file), index=False)\n"
   ]
  },
  {
   "cell_type": "code",
   "execution_count": 19,
   "metadata": {},
   "outputs": [],
   "source": [
    "if forceBin_flag == 1:    \n",
    "    for i, forceBin in enumerate(forceBins):\n",
    "        number_bins = forceBin.bins\n",
    "        x_coord = forceBin.forceCoord_x\n",
    "        y_coord = forceBin.forceCoord_y\n",
    "        z_coord = forceBin.forceCoord_z\n",
    "        dfs = []\n",
    "        for bin in np.arange(0, number_bins, 1):\n",
    "            dfs.append(pd.DataFrame({'total_x':forceBin.filteredForces[bin]['total']['x'], 'total_y':forceBin.filteredForces[bin]['total']['y'], \n",
    "                'total_z':forceBin.filteredForces[bin]['total']['z'], 'pressure_x':forceBin.filteredForces[bin]['pressure']['x'], \n",
    "                'pressure_y':forceBin.filteredForces[bin]['pressure']['y'], 'pressure_z':forceBin.filteredForces[bin]['pressure']['z'], \n",
    "                'viscous_x':forceBin.filteredForces[bin]['viscous']['x'], 'viscous_y':forceBin.filteredForces[bin]['viscous']['y'], \n",
    "                'viscous_z':forceBin.filteredForces[bin]['viscous']['z']}))\n",
    "\n",
    "        base_df = pd.concat(dfs, axis=1)\n",
    "        base_df.insert(loc=0, column='time', value=forceBin.filteredForces['time'])\n",
    "\n",
    "        save_file = forceBins_paths[i].parts[1] + '_' + forceBins_paths[i].parts[2] + '.csv'\n",
    "\n",
    "        with open(save_location.joinpath('force_bins', save_file), 'w') as f:\n",
    "            f.write('# ' + 'No Bins' + str(number_bins) + '\\n')\n",
    "            f.write('# x-coordinate, ' + np.array2string(x_coord, separator=',', formatter={'float_kind':lambda x: \"%.4f\" % x}).replace('[', '').replace(']','').replace('\\n',''))\n",
    "            f.write('\\n')\n",
    "            f.write('# y-coordinate, ' + np.array2string(y_coord, separator=',', formatter={'float_kind':lambda x: \"%.4f\" % x}).replace('[', '').replace(']','').replace('\\n',''))\n",
    "            f.write('\\n')\n",
    "            f.write('# z-coordinate, ' + np.array2string(z_coord, separator=',', formatter={'float_kind':lambda x: \"%.4f\" % x}).replace('[', '').replace(']','').replace('\\n',''))\n",
    "            f.write('\\n')\n",
    "            f.write('\\n')\n",
    "\n",
    "            f.close()\n",
    "\n",
    "        base_df.to_csv(save_location.joinpath('force_bins', save_file), mode='a', index=False)"
   ]
  },
  {
   "cell_type": "code",
   "execution_count": null,
   "metadata": {},
   "outputs": [],
   "source": []
  }
 ],
 "metadata": {
  "interpreter": {
   "hash": "31f2aee4e71d21fbe5cf8b01ff0e069b9275f58929596ceb00d14d90e3e16cd6"
  },
  "kernelspec": {
   "display_name": "Python 3.8.10 64-bit",
   "name": "python3"
  },
  "language_info": {
   "codemirror_mode": {
    "name": "ipython",
    "version": 3
   },
   "file_extension": ".py",
   "mimetype": "text/x-python",
   "name": "python",
   "nbconvert_exporter": "python",
   "pygments_lexer": "ipython3",
   "version": "3.10.2"
  }
 },
 "nbformat": 4,
 "nbformat_minor": 4
}
