{
 "cells": [
  {
   "cell_type": "code",
   "execution_count": null,
   "metadata": {},
   "outputs": [],
   "source": [
    "import numpy as np\n",
    "import processingIO as pio\n",
    "import matplotlib.pyplot as plt\n",
    "import pandas as pd\n",
    "\n",
    "from pathlib import Path\n",
    "from dataUtilities import filterData\n",
    "from forceClass import Forces\n",
    "\n",
    "from scipy import stats\n",
    "from scipy.optimize import curve_fit\n",
    "from scipy.stats.distributions import  t\n",
    "\n",
    "from mpl_toolkits.axes_grid1.inset_locator import (inset_axes, InsetPosition,\n",
    "                                                  mark_inset)"
   ]
  },
  {
   "cell_type": "code",
   "execution_count": null,
   "metadata": {},
   "outputs": [],
   "source": [
    "def power_law(xData, a, b, c):\n",
    "        return a + (b * xData) + (c * xData**2)\n",
    "\n",
    "def fit_data(xData, yData):\n",
    "\n",
    "    popt, pcov = curve_fit(power_law, xData, yData, p0=[0.5, 0.5, 0.5])\n",
    "\n",
    "    residuals = yData - power_law(xData, *popt)\n",
    "\n",
    "    ss_res = np.sum(residuals**2)\n",
    "    ss_total = np.sum((yData-np.mean(yData))**2)\n",
    "\n",
    "    r_squared = 1 - (ss_res/ss_total)\n",
    "\n",
    "    return popt, r_squared"
   ]
  },
  {
   "cell_type": "code",
   "execution_count": null,
   "metadata": {},
   "outputs": [],
   "source": [
    "data_location = r'/location/of/data'\n",
    "\n",
    "force_paths = pio.get_files(data_location, 'force.dat')\n",
    "force_paths.sort()\n",
    "solver_paths = pio.get_files(data_location, 'log.solver')\n",
    "solver_paths.sort()\n",
    "\n",
    "tmp = []\n",
    "\n",
    "constantDict = {'parentCase':[], 'specificCase':[], 'totalTime':[]}\n",
    "\n",
    "for solverFile in solver_paths:\n",
    "    constantDict['parentCase'].append(solverFile.parts[-4])\n",
    "    constantDict['specificCase'].append(solverFile.parts[-3])\n",
    "    with open(solverFile, 'r') as f:\n",
    "        for line in f:\n",
    "            if 'ExecutionTime' in line:\n",
    "                tmp.append(line.split()[2])\n",
    "\n",
    "    constantDict['totalTime'].append(tmp[-1]) \n",
    "\n",
    "cycles = 1.0\n",
    "total_cycles = 2.5\n",
    "\n",
    "forces = [Forces(filepath, cycles, total_cycles, True, True) for filepath in force_paths]"
   ]
  },
  {
   "cell_type": "code",
   "execution_count": null,
   "metadata": {},
   "outputs": [],
   "source": [
    "density = 998.2\n",
    "fudgeFactor = 1.0\n",
    "alpha_max = [5, 10, 15, 20, 25, 30]\n",
    "average_fx = []\n",
    "case = []\n",
    "number_subCases = 7\n",
    "\n",
    "for force in forces:\n",
    "    average_fx.append(force.averageFilteredForces['total']['x']/density)\n",
    "    case.append(force.specific_case)\n",
    "\n",
    "fig1, ax1 = plt.subplots(figsize=(12,10))\n",
    "for force in forces:\n",
    "    ax1.plot(force.filteredForces['time'], force.filteredForces['total']['x'], label=force.specific_case)\n",
    "\n",
    "#ax2 = plt.axes([0, 0, 1, 1])\n",
    "#ip = InsetPosition(ax1, [0.2,0.4,0.55,0.55])\n",
    "#ax2.set_axes_locator(ip)\n",
    "#mark_inset(ax1, ax2, loc1=2, loc2=4, fc=\"none\", ec='0.5')\n",
    "\n",
    "#ax1.legend()\n",
    "ax1.set_ylim([-3000, 3000])"
   ]
  },
  {
   "cell_type": "code",
   "execution_count": null,
   "metadata": {},
   "outputs": [],
   "source": [
    "case1 = []\n",
    "case2 = []\n",
    "number_cases = 7\n",
    "U = 1.0\n",
    "chord = 1.0\n",
    "density = 1025\n",
    "fudgeFactor = 1.0\n",
    "\n",
    "a_st = [0.10, 0.20, 0.25, 0.30, 0.35, 0.40, 0.50]\n",
    "\n",
    "anderson_data = r'/location/of/Anderson/data'\n",
    "andersonDF = pd.read_excel(anderson_data, sheet_name='alpha15')\n",
    "\n",
    "for i in range(number_cases):\n",
    "    case1.append(forces[i].averageFilteredForces['total']['x']/(0.5*density*U**2*chord))\n",
    "    case2.append(forces[i+number_cases].averageFilteredForces['total']['x']/(0.5*density*U**2*chord))\n",
    "    #case3.append(forces[i+18].averageFilteredForces['total']['x']/density)\n",
    "    #case4.append(forces[i+27].averageFilteredForces['total']['x']/density)\n",
    "\n",
    "case1 = np.asarray(case1)\n",
    "case2 = np.asarray(case2)\n",
    "\n",
    "fig1, ax1 = plt.subplots(figsize=(12,10))\n",
    "ax1.plot(andersonDF['Strouhal'], andersonDF['Ct'], 'o-', label='Anderson Data')\n",
    "ax1.plot(a_st, case1*fudgeFactor, 'o-', label='Case 1')\n",
    "ax1.plot(a_st, case2*fudgeFactor, 'o-', label='Case 2')\n",
    "#ax1.plot(e_st, case3*fudgeFactor, 'o-', label='Case 3')\n",
    "#ax1.plot(e_st, case4*fudgeFactor, 'o-', label='Case 4')\n",
    "\n",
    "#ax2 = plt.axes([0, 0, 1, 1])\n",
    "#ip = InsetPosition(ax1, [0.2,0.2,0.55,0.55])\n",
    "#ax2.set_axes_locator(ip)\n",
    "#mark_inset(ax1, ax2, loc1=2, loc2=4, fc=\"none\", ec='0.5')\n",
    "\n",
    "#startIndex = 0\n",
    "#endIndex = 4\n",
    "\n",
    "#ax2.plot(e_st[startIndex:endIndex], e_force[startIndex:endIndex], 'o-', label='Ebrahim Data')\n",
    "#ax2.plot(e_st[startIndex:endIndex], case1[startIndex:endIndex]*fudgeFactor, 'o-', label='Case 1')\n",
    "#ax2.plot(e_st[startIndex:endIndex], case2[startIndex:endIndex]*fudgeFactor, 'o-', label='Case 2')\n",
    "#ax2.plot(e_st[startIndex:endIndex], case3[startIndex:endIndex]*fudgeFactor, 'o-', label='Case 3')\n",
    "#ax2.plot(e_st[startIndex:endIndex], case4[startIndex:endIndex]*fudgeFactor, 'o-', label='Case 4')\n",
    "#ax2.set_ylim([-4, 1.5])\n",
    "\n",
    "ax1.legend()\n",
    "#ax1.set_ylim([0.5, -40])"
   ]
  },
  {
   "cell_type": "code",
   "execution_count": null,
   "metadata": {},
   "outputs": [],
   "source": [
    "constantDict"
   ]
  },
  {
   "cell_type": "code",
   "execution_count": null,
   "metadata": {},
   "outputs": [],
   "source": []
  }
 ],
 "metadata": {
  "interpreter": {
   "hash": "31f2aee4e71d21fbe5cf8b01ff0e069b9275f58929596ceb00d14d90e3e16cd6"
  },
  "kernelspec": {
   "display_name": "Python 3.8.10 64-bit",
   "name": "python3"
  },
  "language_info": {
   "codemirror_mode": {
    "name": "ipython",
    "version": 3
   },
   "file_extension": ".py",
   "mimetype": "text/x-python",
   "name": "python",
   "nbconvert_exporter": "python",
   "pygments_lexer": "ipython3",
   "version": "3.8.10"
  }
 },
 "nbformat": 4,
 "nbformat_minor": 4
}
