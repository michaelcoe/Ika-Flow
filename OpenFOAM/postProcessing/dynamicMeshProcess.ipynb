{
 "cells": [
  {
   "cell_type": "code",
   "execution_count": 1,
   "metadata": {},
   "outputs": [],
   "source": [
    "import os\n",
    "import sys\n",
    "import re\n",
    "import numpy as np\n",
    "import pandas as pd\n",
    "\n",
    "import matplotlib.pyplot as plt\n",
    "\n",
    "from pathlib import Path"
   ]
  },
  {
   "cell_type": "markdown",
   "metadata": {},
   "source": [
    "Get list of files for data"
   ]
  },
  {
   "cell_type": "code",
   "execution_count": 2,
   "metadata": {},
   "outputs": [
    {
     "output_type": "stream",
     "name": "stdout",
     "text": [
      "['./log.dynamicMesh']\n"
     ]
    }
   ],
   "source": [
    "data_location = r'./'\n",
    "\n",
    "data_files = []\n",
    "data_files += [os.path.join(data_location, each) for each in os.listdir(data_location) if each.endswith('.dynamicMesh')]\n",
    "print(data_files)"
   ]
  },
  {
   "cell_type": "markdown",
   "metadata": {},
   "source": [
    "Retrieve the data with an array of arrays for each parameter that's important.\n",
    "\n",
    "In this case, it's High aspect ratio cells\n",
    "    Minimum face area = 2.678588334e-06\n",
    "\n",
    "    Maximum face area = 0.2049829902\n",
    "\n",
    "    Min volume = 2.678588334e-06\n",
    "\n",
    "    Max volume = 0.04078116445\n",
    "\n",
    "    Total volume = 239.9300838\n",
    "\n",
    "    Mesh non-orthogonality Max: 42.41365807\n",
    "\n",
    "    Mesh non-orthogonality average: 4.437578995\n",
    "    \n",
    "    Max skewness = 0.6555741234"
   ]
  },
  {
   "cell_type": "code",
   "execution_count": 3,
   "metadata": {},
   "outputs": [],
   "source": [
    "aspect_ratio = []\n",
    "min_faceArea = []\n",
    "max_faceArea = []\n",
    "min_volume = []\n",
    "max_volume = []\n",
    "total_volume = []\n",
    "nonOrg_max = []\n",
    "nonOrg_avg = []\n",
    "skewness = []"
   ]
  },
  {
   "cell_type": "code",
   "execution_count": 7,
   "metadata": {},
   "outputs": [],
   "source": [
    "with open(data_files[0], 'r') as f:\n",
    "    for line in f:\n",
    "        if('High aspect ratio' in line):\n",
    "            matches = re.findall(\"[+-]?\\d+\\.\\d+\", line)\n",
    "            aspect_ratio.append(float(matches[0]))\n",
    "        elif('Minimum face area' in line):\n",
    "            matches = re.findall(\"[+-]?\\d+\\.\\d+\", line)\n",
    "            min_faceArea.append(float(matches[0]))\n",
    "            max_faceArea.append(float(matches[1]))\n",
    "        elif('Min volume' in line):\n",
    "            matches = re.findall(\"[+-]?\\d+\\.\\d+\", line)\n",
    "            min_volume.append(float(matches[0]))\n",
    "            max_volume.append(float(matches[1]))\n",
    "            total_volume.append(float(matches[2]))\n",
    "        elif('Mesh non-orthogonality' in line):\n",
    "            matches = re.findall(\"[+-]?\\d+\\.\\d+\", line)\n",
    "            nonOrg_max.append(float(matches[0]))\n",
    "            nonOrg_avg.append(float(matches[1]))\n",
    "        elif('Max skewness' in line):\n",
    "            matches = re.findall(\"[+-]?\\d+\\.\\d+\", line)\n",
    "            skewness.append(float(matches[0]))\n",
    "            "
   ]
  },
  {
   "cell_type": "code",
   "execution_count": 8,
   "metadata": {},
   "outputs": [
    {
     "output_type": "stream",
     "name": "stdout",
     "text": [
      "{'Aspect Ratio': [1208.194166, 1093.672881, 1140.807333, 1208.194166, 1093.672881, 1140.807333], 'Min Face Area': [2.678588334, 2.959070173, 2.836811008, 2.678588334, 2.959070173, 2.836811008], 'Max Face Area': [0.2049829902, 0.2049631531, 0.2049735689, 0.2049829902, 0.2049631531, 0.2049735689], 'Min Volume': [2.678588334, 2.959070173, 2.836811008], 'Max Volume': [0.04078116445, 0.0407757387, 0.0407785044], 'Total Volume': [239.9300838, 239.9274422, 239.9282873], 'Max NO': [42.41365807, 42.77331168, 42.58068746, 42.41365807, 42.77331168, 42.58068746], 'Avg NO': [4.437578995, 4.446902448, 4.436853117, 4.437578995, 4.446902448, 4.436853117], 'Skewness': [0.6555741234, 0.7479292441, 0.7045164161, 0.6555741234, 0.7479292441, 0.7045164161]}\n"
     ]
    }
   ],
   "source": [
    "data = {'Aspect Ratio':aspect_ratio, 'Min Face Area':min_faceArea, 'Max Face Area':max_faceArea, 'Min Volume':min_volume, 'Max Volume':max_volume, 'Total Volume':total_volume, 'Max NO':nonOrg_max, 'Avg NO':nonOrg_avg, 'Skewness':skewness}\n",
    "\n",
    "mesh_df = pd.DataFrame(data)"
   ]
  },
  {
   "cell_type": "code",
   "execution_count": null,
   "metadata": {},
   "outputs": [],
   "source": []
  }
 ],
 "metadata": {
  "kernelspec": {
   "name": "python3",
   "display_name": "Python 3.9.5 64-bit"
  },
  "language_info": {
   "codemirror_mode": {
    "name": "ipython",
    "version": 3
   },
   "file_extension": ".py",
   "mimetype": "text/x-python",
   "name": "python",
   "nbconvert_exporter": "python",
   "pygments_lexer": "ipython3",
   "version": "3.9.5"
  },
  "interpreter": {
   "hash": "a78839fcd0a87f1bc59d97616e11f6dea7c5b71d26349f3e8a0d0e4afe02aaa0"
  }
 },
 "nbformat": 4,
 "nbformat_minor": 4
}