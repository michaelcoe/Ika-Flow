{
 "cells": [
  {
   "cell_type": "code",
   "execution_count": 1,
   "metadata": {},
   "outputs": [],
   "source": [
    "import numpy as np\n",
    "import processingIO as pio\n",
    "\n",
    "from pathlib import Path\n",
    "from dataUtilities import filterData\n",
    "#from forceClass import Forces"
   ]
  },
  {
   "cell_type": "code",
   "execution_count": 2,
   "metadata": {},
   "outputs": [],
   "source": [
    "data_location = r'/home/mco143/Documents/Current_OpenFOAM_Simulations/Anderson_validation_constant'\n",
    "\n",
    "force_paths = pio.get_files(data_location, 'coefficient.dat')\n",
    "force_paths.sort()\n",
    "solver_paths = pio.get_files(data_location, 'log.solver')\n",
    "solver_paths.sort()"
   ]
  },
  {
   "cell_type": "code",
   "execution_count": 33,
   "metadata": {},
   "outputs": [],
   "source": [
    "class ForceCoefficient:\n",
    "\n",
    "    def __init__(self,\n",
    "                 inputpath,\n",
    "                 cycles = 3.0,\n",
    "                 total_cycles = 3.0,\n",
    "                 average = True,\n",
    "                 filterForces = True):\n",
    "\n",
    "        self.coefficient_path = Path(inputpath).parent.joinpath('coefficient.dat')\n",
    "        self.specific_case = self.coefficient_path.parts[-6]\n",
    "        self.parent_case = self.coefficient_path.parts[-7]\n",
    "        self.cycles = cycles\n",
    "        self.total_cycles = total_cycles\n",
    "\n",
    "        # all forces should be loaded by now\n",
    "        # build a \"nice\" dict with the forces\n",
    "        self.coefficients = dict()\n",
    "\n",
    "        _rawCoefficients = self._readCoefficientFile(self.coefficient_path)\n",
    "\n",
    "        self.coefficients[\"time\"] = _rawCoefficients[:,0]\n",
    "        self.coefficientTypes = ['Cd', 'Cs', 'Cl', 'CmRoll', 'CmPitch', 'CmYaw', 'Cdf', 'Cdr', 'Csf', 'Csr', 'Clf', 'Clr']\n",
    "        \n",
    "        for i, coeffType in enumerate(self.coefficientTypes):\n",
    "            self.coefficients[coeffType] = {}\n",
    "            self.coefficients[coeffType]= _rawCoefficients[:,i+1]              \n",
    "    \n",
    "        if average:\n",
    "            self.calculateAverageStd()\n",
    "        if filterForces:\n",
    "            self.filterCoefficients()\n",
    "            self.calculateFilteredAverageStd()\n",
    "\n",
    "    # function to process force.dat files\n",
    "    def _readCoefficientFile(self, file_name):\n",
    "        raw = np.loadtxt(file_name, comments='#', skiprows=13)\n",
    "        return raw\n",
    "\n",
    "    # Returns an indices mask based based on the number of cycles that want to be plotted\n",
    "    def _getIndices(self):\n",
    "        cuttoff_time = self.coefficients['time'][-1] * ((self.total_cycles-self.cycles)/self.total_cycles)\n",
    "        return np.where(self.coefficients['time'] >= cuttoff_time, True, False)\n",
    "    \n",
    "    def _getIndicesByTime(self, dictType, startTime, endTime):\n",
    "            return np.logical_and(self.coefficients['time'] >= startTime, self.coefficients['time'] <= endTime)\n",
    "    \n",
    "    # calculates the average and standard deviation on unfiltered data\n",
    "    def calculateAverageStd(self):\n",
    "\n",
    "        self.averageCoefficients = {}\n",
    "        self.stdCoefficients = {}\n",
    "\n",
    "        mask = self._getIndices()\n",
    "\n",
    "        for i, coeffType in enumerate(self.coefficientTypes):\n",
    "            self.averageCoefficients[coeffType] = {}\n",
    "            self.stdCoefficients[coeffType] = {}\n",
    "            self.averageCoefficients[coeffType] = np.average(self.coefficients[coeffType][mask])\n",
    "            self.stdCoefficients[coeffType] = np.std(self.coefficients[coeffType][mask])\n",
    "        \n",
    "        return { 'coefficients' : { \"average\" : self.averageCoefficients, \"std\" : self.stdCoefficients}}\n",
    "    \n",
    "    # filters the data\n",
    "    def filterCoefficients(self, filterFunction = \"flat\", filterWindow = 11):\n",
    "        if filterWindow % 2 == 0:\n",
    "            raise Exception(\"filterWindow needs to be an uneven number!\")\n",
    "\n",
    "        mask = self._getIndices()\n",
    "        endTimeIndex = int(len(self.coefficients[\"time\"][mask]) - ((filterWindow - 1)/2))\n",
    "\n",
    "        self.filteredCoefficients = {}\n",
    "        self.filteredCoefficients[\"time\"] =  self.coefficients[\"time\"][int((filterWindow - 1)/2):endTimeIndex]\n",
    "\n",
    "        for i, coeffType in enumerate(self.coefficientTypes):\n",
    "            self.filteredCoefficients[coeffType] = {}\n",
    "            self.filteredCoefficients[coeffType]= filterData(self.coefficients[coeffType][mask], filterWindow, filterFunction)\n",
    "\n",
    "        return self.filteredCoefficients\n",
    "\n",
    "    # Calculates the average and standard deviation on filtered data\n",
    "    def calculateFilteredAverageStd(self):\n",
    "\n",
    "        if hasattr(self, \"filteredCoefficients\") == False:\n",
    "            raise Exception(\"missing attribute filteredForces. Please run filterForces prior to calculateFilteredAveragesStd!\")\n",
    "        \n",
    "        self.averageFilteredCoefficients = {}\n",
    "        self.stdFilteredCoefficients = {}\n",
    "\n",
    "        for i, coeffType in enumerate(self.coefficientTypes):\n",
    "            self.averageFilteredCoefficients[coeffType] = {}\n",
    "            self.stdFilteredCoefficients[coeffType] = {}\n",
    "            # calculate average forces\n",
    "            self.averageFilteredCoefficients[coeffType] = np.average(self.filteredCoefficients[coeffType])\n",
    "            self.stdFilteredCoefficients[coeffType] = np.std(self.filteredCoefficients[coeffType])\n",
    "\n",
    "        return { 'filteredCoefficients' : { \"average\" : self.averageFilteredCoefficients, \"std\" : self.stdFilteredCoefficients}}\n",
    "\n",
    "    def getCoefficientsMinTime(self):\n",
    "        print(\"min time is {}\".format(self.coefficients[\"time\"][0]))\n",
    "        return self.coefficients[\"time\"][0]\n",
    "\n",
    "    ## define a method for getting forces by time\n",
    "    def getCoefficientsByTime(self,  startTime = 0, endTime = 0, coeffType = \"Cd\"):\n",
    "        mask = self._getIndicesByTime(startTime, endTime)\n",
    "        return self.coefficients[coeffType][mask]"
   ]
  },
  {
   "cell_type": "code",
   "execution_count": 34,
   "metadata": {},
   "outputs": [],
   "source": [
    "coeffs = ForceCoefficient(force_paths[0],1.0, 1.5, True, True)"
   ]
  },
  {
   "cell_type": "code",
   "execution_count": 37,
   "metadata": {},
   "outputs": [
    {
     "output_type": "stream",
     "name": "stdout",
     "text": [
      "{'Cd': 0.10920958696142552, 'Cs': -5.734649765757268e-25, 'Cl': 0.05495323130178778, 'CmRoll': -3.073784368317989e-25, 'CmPitch': -0.016653545144400636, 'CmYaw': 1.2495765626264489e-24, 'Cdf': 0.05460479348074167, 'Cdr': 0.05460479348074167, 'Csf': 9.628440742710926e-25, 'Csr': -1.5363090510458692e-24, 'Clf': 0.010823070506556145, 'Clr': 0.044130160795450436}\n"
     ]
    }
   ],
   "source": [
    "print(coeffs.averageFilteredCoefficients)"
   ]
  },
  {
   "cell_type": "code",
   "execution_count": null,
   "metadata": {},
   "outputs": [],
   "source": []
  }
 ],
 "metadata": {
  "kernelspec": {
   "name": "python3",
   "display_name": "Python 3.8.10 64-bit"
  },
  "language_info": {
   "codemirror_mode": {
    "name": "ipython",
    "version": 3
   },
   "file_extension": ".py",
   "mimetype": "text/x-python",
   "name": "python",
   "nbconvert_exporter": "python",
   "pygments_lexer": "ipython3",
   "version": "3.8.10"
  },
  "interpreter": {
   "hash": "31f2aee4e71d21fbe5cf8b01ff0e069b9275f58929596ceb00d14d90e3e16cd6"
  }
 },
 "nbformat": 4,
 "nbformat_minor": 4
}