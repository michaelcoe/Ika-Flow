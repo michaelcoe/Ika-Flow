{
 "cells": [
  {
   "cell_type": "code",
   "execution_count": 1,
   "metadata": {},
   "outputs": [],
   "source": [
    "import numpy as np\n",
    "import processingIO as pio\n",
    "\n",
    "from pathlib import Path\n",
    "from dataUtilities import filterData\n",
    "from forceClass import Forces"
   ]
  },
  {
   "cell_type": "code",
   "execution_count": 27,
   "metadata": {},
   "outputs": [
    {
     "output_type": "error",
     "ename": "AttributeError",
     "evalue": "'list' object has no attribute 'parts'",
     "traceback": [
      "\u001b[0;31m---------------------------------------------------------------------------\u001b[0m",
      "\u001b[0;31mAttributeError\u001b[0m                            Traceback (most recent call last)",
      "\u001b[0;32m<ipython-input-27-fa12afee978b>\u001b[0m in \u001b[0;36m<module>\u001b[0;34m\u001b[0m\n\u001b[1;32m      3\u001b[0m \u001b[0msolver_paths\u001b[0m \u001b[0;34m=\u001b[0m \u001b[0mpio\u001b[0m\u001b[0;34m.\u001b[0m\u001b[0mget_files\u001b[0m\u001b[0;34m(\u001b[0m\u001b[0mdata_location\u001b[0m\u001b[0;34m,\u001b[0m \u001b[0;34m'log.solver'\u001b[0m\u001b[0;34m)\u001b[0m\u001b[0;34m\u001b[0m\u001b[0;34m\u001b[0m\u001b[0m\n\u001b[1;32m      4\u001b[0m \u001b[0msolver_paths\u001b[0m\u001b[0;34m.\u001b[0m\u001b[0msort\u001b[0m\u001b[0;34m(\u001b[0m\u001b[0;34m)\u001b[0m\u001b[0;34m\u001b[0m\u001b[0;34m\u001b[0m\u001b[0m\n\u001b[0;32m----> 5\u001b[0;31m \u001b[0mcases\u001b[0m \u001b[0;34m=\u001b[0m \u001b[0msolver_paths\u001b[0m\u001b[0;34m.\u001b[0m\u001b[0mparts\u001b[0m\u001b[0;34m[\u001b[0m\u001b[0;34m-\u001b[0m\u001b[0;36m6\u001b[0m\u001b[0;34m]\u001b[0m\u001b[0;34m\u001b[0m\u001b[0;34m\u001b[0m\u001b[0m\n\u001b[0m",
      "\u001b[0;31mAttributeError\u001b[0m: 'list' object has no attribute 'parts'"
     ]
    }
   ],
   "source": [
    "data_location = r'/home/mco143/Documents/Current_OpenFOAM_Simulations/gridInd_Ebrahim_constant/'\n",
    "\n",
    "solver_paths = pio.get_files(data_location, 'log.solver')\n",
    "solver_paths.sort()"
   ]
  },
  {
   "cell_type": "code",
   "execution_count": 35,
   "metadata": {},
   "outputs": [],
   "source": [
    "tmp = []\n",
    "\n",
    "timeDict = {'totalTime':[], 'parentCase':[], 'specificCase':[]}\n",
    "\n",
    "for solverFile in solver_paths:\n",
    "    timeDict['parentCase'].append(solverFile.parts[-4])\n",
    "    timeDict['specificCase'].append(solverFile.parts[-3])\n",
    "    with open(solverFile, 'r') as f:\n",
    "        for line in f:\n",
    "            if 'ExecutionTime' in line:\n",
    "                tmp.append(line.split()[2])\n",
    "\n",
    "    timeDict['totalTime'].append(tmp[-1])      "
   ]
  },
  {
   "cell_type": "code",
   "execution_count": 37,
   "metadata": {},
   "outputs": [
    {
     "output_type": "execute_result",
     "data": {
      "text/plain": [
       "{'totalTime': ['401.19',\n",
       "  '181.06',\n",
       "  '67.86',\n",
       "  '36.44',\n",
       "  '28.68',\n",
       "  '26.98',\n",
       "  '28.04',\n",
       "  '27.11',\n",
       "  '28.32',\n",
       "  '7805.1',\n",
       "  '7067.29',\n",
       "  '1259.34',\n",
       "  '851.62',\n",
       "  '694.23',\n",
       "  '616.58',\n",
       "  '595.76',\n",
       "  '588.61',\n",
       "  '566.23',\n",
       "  '12874.55',\n",
       "  '15129.7',\n",
       "  '6882.9',\n",
       "  '3224.24',\n",
       "  '2093.71',\n",
       "  '1729.04',\n",
       "  '1541.78',\n",
       "  '1558.67',\n",
       "  '1494.32'],\n",
       " 'parentCase': ['Ebrahim_constant1',\n",
       "  'Ebrahim_constant1',\n",
       "  'Ebrahim_constant1',\n",
       "  'Ebrahim_constant1',\n",
       "  'Ebrahim_constant1',\n",
       "  'Ebrahim_constant1',\n",
       "  'Ebrahim_constant1',\n",
       "  'Ebrahim_constant1',\n",
       "  'Ebrahim_constant1',\n",
       "  'Ebrahim_constant2',\n",
       "  'Ebrahim_constant2',\n",
       "  'Ebrahim_constant2',\n",
       "  'Ebrahim_constant2',\n",
       "  'Ebrahim_constant2',\n",
       "  'Ebrahim_constant2',\n",
       "  'Ebrahim_constant2',\n",
       "  'Ebrahim_constant2',\n",
       "  'Ebrahim_constant2',\n",
       "  'Ebrahim_constant3',\n",
       "  'Ebrahim_constant3',\n",
       "  'Ebrahim_constant3',\n",
       "  'Ebrahim_constant3',\n",
       "  'Ebrahim_constant3',\n",
       "  'Ebrahim_constant3',\n",
       "  'Ebrahim_constant3',\n",
       "  'Ebrahim_constant3',\n",
       "  'Ebrahim_constant3'],\n",
       " 'specificCase': ['st0_05',\n",
       "  'st0_10',\n",
       "  'st0_25',\n",
       "  'st0_50',\n",
       "  'st0_75',\n",
       "  'st1_00',\n",
       "  'st1_25',\n",
       "  'st1_50',\n",
       "  'st2_50',\n",
       "  'st0_05',\n",
       "  'st0_10',\n",
       "  'st0_25',\n",
       "  'st0_50',\n",
       "  'st0_75',\n",
       "  'st1_00',\n",
       "  'st1_25',\n",
       "  'st1_50',\n",
       "  'st2_50',\n",
       "  'st0_05',\n",
       "  'st0_10',\n",
       "  'st0_25',\n",
       "  'st0_50',\n",
       "  'st0_75',\n",
       "  'st1_00',\n",
       "  'st1_25',\n",
       "  'st1_50',\n",
       "  'st2_50']}"
      ]
     },
     "metadata": {},
     "execution_count": 37
    }
   ],
   "source": [
    "timeDict"
   ]
  },
  {
   "cell_type": "code",
   "execution_count": null,
   "metadata": {},
   "outputs": [],
   "source": []
  }
 ],
 "metadata": {
  "kernelspec": {
   "name": "python3",
   "display_name": "Python 3.8.10 64-bit"
  },
  "language_info": {
   "codemirror_mode": {
    "name": "ipython",
    "version": 3
   },
   "file_extension": ".py",
   "mimetype": "text/x-python",
   "name": "python",
   "nbconvert_exporter": "python",
   "pygments_lexer": "ipython3",
   "version": "3.8.10"
  },
  "interpreter": {
   "hash": "31f2aee4e71d21fbe5cf8b01ff0e069b9275f58929596ceb00d14d90e3e16cd6"
  }
 },
 "nbformat": 4,
 "nbformat_minor": 4
}